{
 "cells": [
  {
   "cell_type": "code",
   "execution_count": 1,
   "metadata": {
    "id": "23TOba33L4qf",
    "colab": {
     "base_uri": "https://localhost:8080/"
    },
    "outputId": "9c5dfac1-9abc-40db-dee7-1e833a0a6924",
    "pycharm": {
     "name": "#%%\n"
    }
   },
   "outputs": [
    {
     "name": "stdout",
     "output_type": "stream",
     "text": [
      "Sat May  7 13:35:18 2022       \n",
      "+-----------------------------------------------------------------------------+\n",
      "| NVIDIA-SMI 511.65       Driver Version: 511.65       CUDA Version: 11.6     |\n",
      "|-------------------------------+----------------------+----------------------+\n",
      "| GPU  Name            TCC/WDDM | Bus-Id        Disp.A | Volatile Uncorr. ECC |\n",
      "| Fan  Temp  Perf  Pwr:Usage/Cap|         Memory-Usage | GPU-Util  Compute M. |\n",
      "|                               |                      |               MIG M. |\n",
      "|===============================+======================+======================|\n",
      "|   0  NVIDIA GeForce ... WDDM  | 00000000:2D:00.0  On |                  N/A |\n",
      "| 26%   38C    P5    14W / 250W |   1988MiB /  8192MiB |     33%      Default |\n",
      "|                               |                      |                  N/A |\n",
      "+-------------------------------+----------------------+----------------------+\n",
      "                                                                               \n",
      "+-----------------------------------------------------------------------------+\n",
      "| Processes:                                                                  |\n",
      "|  GPU   GI   CI        PID   Type   Process name                  GPU Memory |\n",
      "|        ID   ID                                                   Usage      |\n",
      "|=============================================================================|\n",
      "|    0   N/A  N/A      1428    C+G   ...artMenuExperienceHost.exe    N/A      |\n",
      "|    0   N/A  N/A      1716    C+G                                   N/A      |\n",
      "|    0   N/A  N/A      3740      C   ...mera\\NVIDIA Broadcast.exe    N/A      |\n",
      "|    0   N/A  N/A      5404    C+G   ...Launcher\\RSI Launcher.exe    N/A      |\n",
      "|    0   N/A  N/A      6032    C+G   ...bbwe\\Microsoft.Photos.exe    N/A      |\n",
      "|    0   N/A  N/A      8124    C+G   C:\\Windows\\explorer.exe         N/A      |\n",
      "|    0   N/A  N/A      9380    C+G   ...y\\ShellExperienceHost.exe    N/A      |\n",
      "|    0   N/A  N/A     11324    C+G   ...n1h2txyewy\\SearchHost.exe    N/A      |\n",
      "|    0   N/A  N/A     12444    C+G   ...ekyb3d8bbwe\\YourPhone.exe    N/A      |\n",
      "|    0   N/A  N/A     12596    C+G   ...wekyb3d8bbwe\\Video.UI.exe    N/A      |\n",
      "|    0   N/A  N/A     12600    C+G   ...zpdnekdrzrea0\\Spotify.exe    N/A      |\n",
      "|    0   N/A  N/A     13764    C+G   ...ekyb3d8bbwe\\HxOutlook.exe    N/A      |\n",
      "|    0   N/A  N/A     14764    C+G   ...2txyewy\\TextInputHost.exe    N/A      |\n",
      "|    0   N/A  N/A     15000    C+G   ...perience\\NVIDIA Share.exe    N/A      |\n",
      "|    0   N/A  N/A     15144    C+G   ...perience\\NVIDIA Share.exe    N/A      |\n",
      "|    0   N/A  N/A     15776    C+G   ...ekyb3d8bbwe\\XboxPcApp.exe    N/A      |\n",
      "|    0   N/A  N/A     15908    C+G   ...Battle.net\\Battle.net.exe    N/A      |\n",
      "|    0   N/A  N/A     15924    C+G   ...ograms\\Opera GX\\opera.exe    N/A      |\n",
      "|    0   N/A  N/A     17096    C+G   ... Host\\Razer Synapse 3.exe    N/A      |\n",
      "|    0   N/A  N/A     17276    C+G   ...ician\\SamsungMagician.exe    N/A      |\n",
      "|    0   N/A  N/A     17844    C+G   ...arp.BrowserSubprocess.exe    N/A      |\n",
      "|    0   N/A  N/A     20204    C+G   ...8wekyb3d8bbwe\\Cortana.exe    N/A      |\n",
      "|    0   N/A  N/A     20460    C+G   ...in7x64\\steamwebhelper.exe    N/A      |\n",
      "|    0   N/A  N/A     21484    C+G   ...t\\Teams\\current\\Teams.exe    N/A      |\n",
      "|    0   N/A  N/A     22276    C+G   ...7.0.5.0\\GoogleDriveFS.exe    N/A      |\n",
      "|    0   N/A  N/A     23904    C+G   ...lack\\app-4.25.2\\slack.exe    N/A      |\n",
      "|    0   N/A  N/A     25208    C+G   ...\\app-1.0.9004\\Discord.exe    N/A      |\n",
      "|    0   N/A  N/A     26160    C+G   C:\\Windows\\explorer.exe         N/A      |\n",
      "|    0   N/A  N/A     27504    C+G   ...t\\Teams\\current\\Teams.exe    N/A      |\n",
      "|    0   N/A  N/A     28120    C+G   ...obeNotificationClient.exe    N/A      |\n",
      "|    0   N/A  N/A     33516    C+G   ...1\\jbr\\bin\\jcef_helper.exe    N/A      |\n",
      "+-----------------------------------------------------------------------------+\n",
      "Your runtime has 34.3 gigabytes of available RAM\n",
      "\n",
      "You are using a high-RAM runtime!\n"
     ]
    }
   ],
   "source": [
    "import sys\n",
    "\n",
    "from psutil import virtual_memory\n",
    "\n",
    "gpu_info = !nvidia-smi\n",
    "gpu_info = '\\n'.join(gpu_info)\n",
    "if gpu_info.find('failed') >= 0:\n",
    "  print('Not connected to a GPU')\n",
    "else:\n",
    "  print(gpu_info)\n",
    "\n",
    "ram_gb = virtual_memory().total / 1e9\n",
    "print('Your runtime has {:.1f} gigabytes of available RAM\\n'.format(ram_gb))\n",
    "\n",
    "if ram_gb < 20:\n",
    "  print('Not using a high-RAM runtime')\n",
    "else:\n",
    "  print('You are using a high-RAM runtime!')"
   ],
   "id": "23TOba33L4qf"
  },
  {
   "cell_type": "code",
   "execution_count": 2,
   "id": "1793d6ea",
   "metadata": {
    "pycharm": {
     "name": "#%%\n"
    },
    "id": "1793d6ea"
   },
   "outputs": [],
   "source": [
    "%%capture\n",
    "# install the latest version of kaggle_environments\n",
    "!pip install kaggle_environments\n",
    "!pip install gym\n",
    "!pip install stable-baselines3"
   ]
  },
  {
   "cell_type": "code",
   "execution_count": 3,
   "outputs": [],
   "source": [
    "#import shutil\n",
    "\n",
    "#shutil.rmtree('Kore_Bot', ignore_errors=True)\n",
    "#!git clone -b RL-Main https://github.com/DerrianHarris/Kore_Bot.git"
   ],
   "metadata": {
    "collapsed": false,
    "pycharm": {
     "name": "#%%\n"
    }
   }
  },
  {
   "cell_type": "code",
   "execution_count": 4,
   "outputs": [],
   "source": [
    "import os\n",
    "#import sys\n",
    "#from google.colab import drive\n",
    "\n",
    "DRIVE_LOC = './'#os.path.join('drive','MyDrive','Kore_Bot')\n",
    "\n",
    "#drive.mount('/content/drive')\n",
    "#sys.path.append('/content/Kore_Bot')"
   ],
   "metadata": {
    "collapsed": false,
    "pycharm": {
     "name": "#%%\n"
    }
   }
  },
  {
   "cell_type": "code",
   "execution_count": 5,
   "outputs": [
    {
     "name": "stderr",
     "output_type": "stream",
     "text": [
      "C:\\Users\\sethe\\Documents\\Projects\\Python\\Kore_Bot\\venv\\lib\\site-packages\\stable_baselines3\\common\\env_checker.py:27: UserWarning: It seems that your observation  is an image but the `dtype` of your observation_space is not `np.uint8`. If your observation is not an image, we recommend you to flatten the observation to have only a 1D vector\n",
      "  f\"It seems that your observation {key} is an image but the `dtype` \"\n",
      "C:\\Users\\sethe\\Documents\\Projects\\Python\\Kore_Bot\\venv\\lib\\site-packages\\stable_baselines3\\common\\env_checker.py:35: UserWarning: It seems that your observation space  is an image but the upper and lower bounds are not in [0, 255]. Because the CNN policy normalize automatically the observation you may encounter issue if the values are not in that range.\n",
      "  f\"It seems that your observation space {key} is an image but the \"\n",
      "C:\\Users\\sethe\\Documents\\Projects\\Python\\Kore_Bot\\venv\\lib\\site-packages\\stable_baselines3\\common\\env_checker.py:48: UserWarning: The minimal resolution for an image is 36x36 for the default `CnnPolicy`. You might need to use a custom feature extractor cf. https://stable-baselines3.readthedocs.io/en/master/guide/custom_policy.html\n",
      "  \"The minimal resolution for an image is 36x36 for the default `CnnPolicy`. \"\n"
     ]
    }
   ],
   "source": [
    "import gym\n",
    "from KoreGymEnv import KoreGymEnv\n",
    "from KoreGymEnvHelper import transform_observation, transform_actions\n",
    "\n",
    "from kaggle_environments import make\n",
    "from kaggle_environments.envs.kore_fleets.kore_fleets import random_agent, attacker_agent, balanced_agent, miner_agent\n",
    "\n",
    "from stable_baselines3.common.env_checker import check_env\n",
    "from stable_baselines3.ppo import MlpPolicy\n",
    "from stable_baselines3 import PPO\n",
    "from stable_baselines3.common.env_util import make_vec_env\n",
    "from stable_baselines3.common.callbacks import BaseCallback\n",
    "from stable_baselines3.common.vec_env import VecCheckNan, VecNormalize, DummyVecEnv, VecMonitor\n",
    "from stable_baselines3.common import results_plotter\n",
    "from stable_baselines3.common.callbacks import CallbackList, EvalCallback, CheckpointCallback\n",
    "\n",
    "from matplotlib import pyplot as plt\n",
    "\n",
    "from tqdm.notebook import tqdm\n",
    "\n",
    "import pandas as pd\n",
    "\n",
    "from random import shuffle\n",
    "\n",
    "from gym.envs.registration import register\n",
    "import torch as th\n",
    "import numpy as np\n",
    "\n",
    "th.autograd.set_detect_anomaly(True)\n",
    "np.seterr(all='raise')\n",
    "\n",
    "MAX_EPISODE_STEPS = 400\n",
    "\n",
    "# Example for the CartPole environment\n",
    "register(\n",
    "    # unique identifier for the env `name-version`\n",
    "    id=\"Kore-v1\",\n",
    "    # path to the class for creating the env\n",
    "    # Note: entry_point also accept a class as input (and not only a string)\n",
    "    entry_point=KoreGymEnv,\n",
    "    # Max number of steps per episode, using a `TimeLimitWrapper`\n",
    "    max_episode_steps=MAX_EPISODE_STEPS,\n",
    ")\n",
    "\n",
    "env = gym.make('Kore-v1',opponent=random_agent)#KoreGymEnv(random_agent)\n",
    "check_env(env)"
   ],
   "metadata": {
    "collapsed": false,
    "pycharm": {
     "name": "#%%\n"
    }
   }
  },
  {
   "cell_type": "code",
   "execution_count": 6,
   "outputs": [],
   "source": [
    "LOG_DIR = os.path.join(DRIVE_LOC,'log')\n",
    "MODEL_DIR = os.path.join(DRIVE_LOC,'input','model')\n",
    "MODEL_FILE = 'best_model.zip'\n",
    "\n",
    "best_model_path = os.path.join(MODEL_DIR, 'Best_Model')\n",
    "inc_model_path = os.path.join(MODEL_DIR, 'Inc_Models')\n",
    "\n",
    "best_model_file = os.path.join(best_model_path, MODEL_FILE)\n",
    "log_file = os.path.join(LOG_DIR,'0.monitor.csv')\n",
    "\n",
    "os.makedirs(LOG_DIR, exist_ok=True)\n",
    "os.makedirs(MODEL_DIR, exist_ok=True)\n",
    "os.makedirs(best_model_path, exist_ok=True)\n",
    "os.makedirs(inc_model_path, exist_ok=True)\n",
    "\n",
    "class ProgressBar(BaseCallback):\n",
    "    def __init__(self, verbose=0):\n",
    "        super(ProgressBar, self).__init__(verbose)\n",
    "        self.pbar = None\n",
    "\n",
    "    def _on_training_start(self):\n",
    "        self.pbar = tqdm(total=self.locals['total_timesteps'])\n",
    "\n",
    "    def _on_rollout_start(self):\n",
    "        self.pbar.refresh()\n",
    "\n",
    "    def _on_step(self):\n",
    "         self.pbar.update()\n",
    "\n",
    "    def _on_training_end(self):\n",
    "        self.pbar.close()\n",
    "        self.pbar = None\n",
    "\n",
    "def get_actions(model, obs, config, deterministic=False):\n",
    "    x_obs = transform_observation(False, obs, config, 12)\n",
    "    actions, state = model.predict(x_obs, deterministic=deterministic)\n",
    "    next_actions = transform_actions(actions, obs, config)\n",
    "    return next_actions\n",
    "\n",
    "def run_test(model, opponent,deterministic=False):\n",
    "    env = make('kore_fleets', debug=True)\n",
    "    config = env.configuration\n",
    "\n",
    "    game_agents = [None, opponent]\n",
    "    shuffle(game_agents)\n",
    "\n",
    "    print('Agents:', game_agents)\n",
    "\n",
    "    trainer = env.train(game_agents)\n",
    "    obs = trainer.reset()\n",
    "\n",
    "    while not env.done:\n",
    "        actions = get_actions(model, obs, config, deterministic=deterministic)\n",
    "        obs, reward, done, info = trainer.step(actions)\n",
    "\n",
    "    env.render(mode='ipython', width=640, height=480)\n"
   ],
   "metadata": {
    "collapsed": false,
    "pycharm": {
     "name": "#%%\n"
    }
   }
  },
  {
   "cell_type": "code",
   "execution_count": 7,
   "outputs": [
    {
     "name": "stdout",
     "output_type": "stream",
     "text": [
      "CPU Cores = 1\n",
      "Making model\n"
     ]
    }
   ],
   "source": [
    "opponent = random_agent\n",
    "\n",
    "NUM_GAMES = 1000\n",
    "\n",
    "TIMESTEPS = NUM_GAMES * MAX_EPISODE_STEPS\n",
    "\n",
    "N_CPU = 1#os.cpu_count()\n",
    "print('CPU Cores =', N_CPU)\n",
    "\n",
    "env = DummyVecEnv([lambda: env])\n",
    "env = VecCheckNan(env)\n",
    "env = VecNormalize(env)\n",
    "env = VecMonitor(env, log_file)\n",
    "\n",
    "try:\n",
    "    model = PPO.load(best_model_file)\n",
    "    model.set_env(env)\n",
    "    print('Loaded model')\n",
    "except:\n",
    "    print('Making model')\n",
    "    model = PPO(policy='MlpPolicy',\n",
    "                env=env,\n",
    "                verbose=0,\n",
    "                n_steps=MAX_EPISODE_STEPS,\n",
    "                batch_size=50,\n",
    "                learning_rate=0.00025,\n",
    "                policy_kwargs={'use_expln': True,'normalize_images':False})"
   ],
   "metadata": {
    "collapsed": false,
    "pycharm": {
     "name": "#%%\n"
    }
   }
  },
  {
   "cell_type": "code",
   "execution_count": 8,
   "outputs": [
    {
     "data": {
      "text/plain": "  0%|          | 0/400000 [00:00<?, ?it/s]",
      "application/vnd.jupyter.widget-view+json": {
       "version_major": 2,
       "version_minor": 0,
       "model_id": "fe5ea563ff6f483bad188e42bac4a252"
      }
     },
     "metadata": {},
     "output_type": "display_data"
    },
    {
     "name": "stdout",
     "output_type": "stream",
     "text": [
      "flight plan will be truncated: flight plan for 1 must be at most 1\n",
      "flight plan will be truncated: flight plan for 1 must be at most 1\n",
      "flight plan will be truncated: flight plan for 1 must be at most 1\n",
      "flight plan will be truncated: flight plan for 1 must be at most 1\n",
      "flight plan will be truncated: flight plan for 1 must be at most 1\n",
      "flight plan will be truncated: flight plan for 1 must be at most 1\n",
      "flight plan will be truncated: flight plan for 4 must be at most 3\n",
      "flight plan will be truncated: flight plan for 4 must be at most 3\n",
      "flight plan will be truncated: flight plan for 4 must be at most 3\n",
      "flight plan will be truncated: flight plan for 4 must be at most 3\n",
      "flight plan will be truncated: flight plan for 4 must be at most 3\n",
      "flight plan will be truncated: flight plan for 4 must be at most 3\n",
      "flight plan will be truncated: flight plan for 5 must be at most 4\n",
      "flight plan will be truncated: flight plan for 5 must be at most 4\n",
      "flight plan will be truncated: flight plan for 5 must be at most 4\n",
      "flight plan will be truncated: flight plan for 4 must be at most 3\n",
      "flight plan will be truncated: flight plan for 4 must be at most 3\n",
      "flight plan will be truncated: flight plan for 4 must be at most 3\n",
      "flight plan will be truncated: flight plan for 1 must be at most 1\n",
      "flight plan will be truncated: flight plan for 1 must be at most 1\n",
      "flight plan will be truncated: flight plan for 1 must be at most 1\n",
      "flight plan will be truncated: flight plan for 1 must be at most 1\n",
      "flight plan will be truncated: flight plan for 1 must be at most 1\n",
      "flight plan will be truncated: flight plan for 1 must be at most 1\n"
     ]
    },
    {
     "ename": "KeyboardInterrupt",
     "evalue": "",
     "output_type": "error",
     "traceback": [
      "\u001B[1;31m---------------------------------------------------------------------------\u001B[0m",
      "\u001B[1;31mKeyboardInterrupt\u001B[0m                         Traceback (most recent call last)",
      "\u001B[1;32m~\\AppData\\Local\\Temp\\ipykernel_19724\\102217114.py\u001B[0m in \u001B[0;36m<module>\u001B[1;34m\u001B[0m\n\u001B[0;32m      7\u001B[0m \u001B[1;33m\u001B[0m\u001B[0m\n\u001B[0;32m      8\u001B[0m \u001B[0mnp\u001B[0m\u001B[1;33m.\u001B[0m\u001B[0mset_printoptions\u001B[0m\u001B[1;33m(\u001B[0m\u001B[0mthreshold\u001B[0m\u001B[1;33m=\u001B[0m\u001B[0msys\u001B[0m\u001B[1;33m.\u001B[0m\u001B[0mmaxsize\u001B[0m\u001B[1;33m)\u001B[0m\u001B[1;33m\u001B[0m\u001B[1;33m\u001B[0m\u001B[0m\n\u001B[1;32m----> 9\u001B[1;33m \u001B[0mmodel\u001B[0m \u001B[1;33m=\u001B[0m \u001B[0mmodel\u001B[0m\u001B[1;33m.\u001B[0m\u001B[0mlearn\u001B[0m\u001B[1;33m(\u001B[0m\u001B[0mtotal_timesteps\u001B[0m\u001B[1;33m=\u001B[0m\u001B[0mTIMESTEPS\u001B[0m\u001B[1;33m,\u001B[0m \u001B[0mcallback\u001B[0m\u001B[1;33m=\u001B[0m\u001B[0mcallback\u001B[0m\u001B[1;33m)\u001B[0m\u001B[1;33m\u001B[0m\u001B[1;33m\u001B[0m\u001B[0m\n\u001B[0m\u001B[0;32m     10\u001B[0m \u001B[1;33m\u001B[0m\u001B[0m\n\u001B[0;32m     11\u001B[0m \u001B[1;33m\u001B[0m\u001B[0m\n",
      "\u001B[1;32m~\\Documents\\Projects\\Python\\Kore_Bot\\venv\\lib\\site-packages\\stable_baselines3\\ppo\\ppo.py\u001B[0m in \u001B[0;36mlearn\u001B[1;34m(self, total_timesteps, callback, log_interval, eval_env, eval_freq, n_eval_episodes, tb_log_name, eval_log_path, reset_num_timesteps)\u001B[0m\n\u001B[0;32m    310\u001B[0m             \u001B[0mtb_log_name\u001B[0m\u001B[1;33m=\u001B[0m\u001B[0mtb_log_name\u001B[0m\u001B[1;33m,\u001B[0m\u001B[1;33m\u001B[0m\u001B[1;33m\u001B[0m\u001B[0m\n\u001B[0;32m    311\u001B[0m             \u001B[0meval_log_path\u001B[0m\u001B[1;33m=\u001B[0m\u001B[0meval_log_path\u001B[0m\u001B[1;33m,\u001B[0m\u001B[1;33m\u001B[0m\u001B[1;33m\u001B[0m\u001B[0m\n\u001B[1;32m--> 312\u001B[1;33m             \u001B[0mreset_num_timesteps\u001B[0m\u001B[1;33m=\u001B[0m\u001B[0mreset_num_timesteps\u001B[0m\u001B[1;33m,\u001B[0m\u001B[1;33m\u001B[0m\u001B[1;33m\u001B[0m\u001B[0m\n\u001B[0m\u001B[0;32m    313\u001B[0m         )\n",
      "\u001B[1;32m~\\Documents\\Projects\\Python\\Kore_Bot\\venv\\lib\\site-packages\\stable_baselines3\\common\\on_policy_algorithm.py\u001B[0m in \u001B[0;36mlearn\u001B[1;34m(self, total_timesteps, callback, log_interval, eval_env, eval_freq, n_eval_episodes, tb_log_name, eval_log_path, reset_num_timesteps)\u001B[0m\n\u001B[0;32m    248\u001B[0m         \u001B[1;32mwhile\u001B[0m \u001B[0mself\u001B[0m\u001B[1;33m.\u001B[0m\u001B[0mnum_timesteps\u001B[0m \u001B[1;33m<\u001B[0m \u001B[0mtotal_timesteps\u001B[0m\u001B[1;33m:\u001B[0m\u001B[1;33m\u001B[0m\u001B[1;33m\u001B[0m\u001B[0m\n\u001B[0;32m    249\u001B[0m \u001B[1;33m\u001B[0m\u001B[0m\n\u001B[1;32m--> 250\u001B[1;33m             \u001B[0mcontinue_training\u001B[0m \u001B[1;33m=\u001B[0m \u001B[0mself\u001B[0m\u001B[1;33m.\u001B[0m\u001B[0mcollect_rollouts\u001B[0m\u001B[1;33m(\u001B[0m\u001B[0mself\u001B[0m\u001B[1;33m.\u001B[0m\u001B[0menv\u001B[0m\u001B[1;33m,\u001B[0m \u001B[0mcallback\u001B[0m\u001B[1;33m,\u001B[0m \u001B[0mself\u001B[0m\u001B[1;33m.\u001B[0m\u001B[0mrollout_buffer\u001B[0m\u001B[1;33m,\u001B[0m \u001B[0mn_rollout_steps\u001B[0m\u001B[1;33m=\u001B[0m\u001B[0mself\u001B[0m\u001B[1;33m.\u001B[0m\u001B[0mn_steps\u001B[0m\u001B[1;33m)\u001B[0m\u001B[1;33m\u001B[0m\u001B[1;33m\u001B[0m\u001B[0m\n\u001B[0m\u001B[0;32m    251\u001B[0m \u001B[1;33m\u001B[0m\u001B[0m\n\u001B[0;32m    252\u001B[0m             \u001B[1;32mif\u001B[0m \u001B[0mcontinue_training\u001B[0m \u001B[1;32mis\u001B[0m \u001B[1;32mFalse\u001B[0m\u001B[1;33m:\u001B[0m\u001B[1;33m\u001B[0m\u001B[1;33m\u001B[0m\u001B[0m\n",
      "\u001B[1;32m~\\Documents\\Projects\\Python\\Kore_Bot\\venv\\lib\\site-packages\\stable_baselines3\\common\\on_policy_algorithm.py\u001B[0m in \u001B[0;36mcollect_rollouts\u001B[1;34m(self, env, callback, rollout_buffer, n_rollout_steps)\u001B[0m\n\u001B[0;32m    167\u001B[0m                 \u001B[1;31m# Convert to pytorch tensor or to TensorDict\u001B[0m\u001B[1;33m\u001B[0m\u001B[1;33m\u001B[0m\u001B[1;33m\u001B[0m\u001B[0m\n\u001B[0;32m    168\u001B[0m                 \u001B[0mobs_tensor\u001B[0m \u001B[1;33m=\u001B[0m \u001B[0mobs_as_tensor\u001B[0m\u001B[1;33m(\u001B[0m\u001B[0mself\u001B[0m\u001B[1;33m.\u001B[0m\u001B[0m_last_obs\u001B[0m\u001B[1;33m,\u001B[0m \u001B[0mself\u001B[0m\u001B[1;33m.\u001B[0m\u001B[0mdevice\u001B[0m\u001B[1;33m)\u001B[0m\u001B[1;33m\u001B[0m\u001B[1;33m\u001B[0m\u001B[0m\n\u001B[1;32m--> 169\u001B[1;33m                 \u001B[0mactions\u001B[0m\u001B[1;33m,\u001B[0m \u001B[0mvalues\u001B[0m\u001B[1;33m,\u001B[0m \u001B[0mlog_probs\u001B[0m \u001B[1;33m=\u001B[0m \u001B[0mself\u001B[0m\u001B[1;33m.\u001B[0m\u001B[0mpolicy\u001B[0m\u001B[1;33m(\u001B[0m\u001B[0mobs_tensor\u001B[0m\u001B[1;33m)\u001B[0m\u001B[1;33m\u001B[0m\u001B[1;33m\u001B[0m\u001B[0m\n\u001B[0m\u001B[0;32m    170\u001B[0m             \u001B[0mactions\u001B[0m \u001B[1;33m=\u001B[0m \u001B[0mactions\u001B[0m\u001B[1;33m.\u001B[0m\u001B[0mcpu\u001B[0m\u001B[1;33m(\u001B[0m\u001B[1;33m)\u001B[0m\u001B[1;33m.\u001B[0m\u001B[0mnumpy\u001B[0m\u001B[1;33m(\u001B[0m\u001B[1;33m)\u001B[0m\u001B[1;33m\u001B[0m\u001B[1;33m\u001B[0m\u001B[0m\n\u001B[0;32m    171\u001B[0m \u001B[1;33m\u001B[0m\u001B[0m\n",
      "\u001B[1;32m~\\Documents\\Projects\\Python\\Kore_Bot\\venv\\lib\\site-packages\\torch\\nn\\modules\\module.py\u001B[0m in \u001B[0;36m_call_impl\u001B[1;34m(self, *input, **kwargs)\u001B[0m\n\u001B[0;32m   1108\u001B[0m         if not (self._backward_hooks or self._forward_hooks or self._forward_pre_hooks or _global_backward_hooks\n\u001B[0;32m   1109\u001B[0m                 or _global_forward_hooks or _global_forward_pre_hooks):\n\u001B[1;32m-> 1110\u001B[1;33m             \u001B[1;32mreturn\u001B[0m \u001B[0mforward_call\u001B[0m\u001B[1;33m(\u001B[0m\u001B[1;33m*\u001B[0m\u001B[0minput\u001B[0m\u001B[1;33m,\u001B[0m \u001B[1;33m**\u001B[0m\u001B[0mkwargs\u001B[0m\u001B[1;33m)\u001B[0m\u001B[1;33m\u001B[0m\u001B[1;33m\u001B[0m\u001B[0m\n\u001B[0m\u001B[0;32m   1111\u001B[0m         \u001B[1;31m# Do not call functions when jit is used\u001B[0m\u001B[1;33m\u001B[0m\u001B[1;33m\u001B[0m\u001B[1;33m\u001B[0m\u001B[0m\n\u001B[0;32m   1112\u001B[0m         \u001B[0mfull_backward_hooks\u001B[0m\u001B[1;33m,\u001B[0m \u001B[0mnon_full_backward_hooks\u001B[0m \u001B[1;33m=\u001B[0m \u001B[1;33m[\u001B[0m\u001B[1;33m]\u001B[0m\u001B[1;33m,\u001B[0m \u001B[1;33m[\u001B[0m\u001B[1;33m]\u001B[0m\u001B[1;33m\u001B[0m\u001B[1;33m\u001B[0m\u001B[0m\n",
      "\u001B[1;32m~\\Documents\\Projects\\Python\\Kore_Bot\\venv\\lib\\site-packages\\stable_baselines3\\common\\policies.py\u001B[0m in \u001B[0;36mforward\u001B[1;34m(self, obs, deterministic)\u001B[0m\n\u001B[0;32m    590\u001B[0m         \u001B[1;31m# Evaluate the values for the given observations\u001B[0m\u001B[1;33m\u001B[0m\u001B[1;33m\u001B[0m\u001B[1;33m\u001B[0m\u001B[0m\n\u001B[0;32m    591\u001B[0m         \u001B[0mvalues\u001B[0m \u001B[1;33m=\u001B[0m \u001B[0mself\u001B[0m\u001B[1;33m.\u001B[0m\u001B[0mvalue_net\u001B[0m\u001B[1;33m(\u001B[0m\u001B[0mlatent_vf\u001B[0m\u001B[1;33m)\u001B[0m\u001B[1;33m\u001B[0m\u001B[1;33m\u001B[0m\u001B[0m\n\u001B[1;32m--> 592\u001B[1;33m         \u001B[0mdistribution\u001B[0m \u001B[1;33m=\u001B[0m \u001B[0mself\u001B[0m\u001B[1;33m.\u001B[0m\u001B[0m_get_action_dist_from_latent\u001B[0m\u001B[1;33m(\u001B[0m\u001B[0mlatent_pi\u001B[0m\u001B[1;33m)\u001B[0m\u001B[1;33m\u001B[0m\u001B[1;33m\u001B[0m\u001B[0m\n\u001B[0m\u001B[0;32m    593\u001B[0m         \u001B[0mactions\u001B[0m \u001B[1;33m=\u001B[0m \u001B[0mdistribution\u001B[0m\u001B[1;33m.\u001B[0m\u001B[0mget_actions\u001B[0m\u001B[1;33m(\u001B[0m\u001B[0mdeterministic\u001B[0m\u001B[1;33m=\u001B[0m\u001B[0mdeterministic\u001B[0m\u001B[1;33m)\u001B[0m\u001B[1;33m\u001B[0m\u001B[1;33m\u001B[0m\u001B[0m\n\u001B[0;32m    594\u001B[0m         \u001B[0mlog_prob\u001B[0m \u001B[1;33m=\u001B[0m \u001B[0mdistribution\u001B[0m\u001B[1;33m.\u001B[0m\u001B[0mlog_prob\u001B[0m\u001B[1;33m(\u001B[0m\u001B[0mactions\u001B[0m\u001B[1;33m)\u001B[0m\u001B[1;33m\u001B[0m\u001B[1;33m\u001B[0m\u001B[0m\n",
      "\u001B[1;32m~\\Documents\\Projects\\Python\\Kore_Bot\\venv\\lib\\site-packages\\stable_baselines3\\common\\policies.py\u001B[0m in \u001B[0;36m_get_action_dist_from_latent\u001B[1;34m(self, latent_pi)\u001B[0m\n\u001B[0;32m    611\u001B[0m         \u001B[1;32melif\u001B[0m \u001B[0misinstance\u001B[0m\u001B[1;33m(\u001B[0m\u001B[0mself\u001B[0m\u001B[1;33m.\u001B[0m\u001B[0maction_dist\u001B[0m\u001B[1;33m,\u001B[0m \u001B[0mMultiCategoricalDistribution\u001B[0m\u001B[1;33m)\u001B[0m\u001B[1;33m:\u001B[0m\u001B[1;33m\u001B[0m\u001B[1;33m\u001B[0m\u001B[0m\n\u001B[0;32m    612\u001B[0m             \u001B[1;31m# Here mean_actions are the flattened logits\u001B[0m\u001B[1;33m\u001B[0m\u001B[1;33m\u001B[0m\u001B[1;33m\u001B[0m\u001B[0m\n\u001B[1;32m--> 613\u001B[1;33m             \u001B[1;32mreturn\u001B[0m \u001B[0mself\u001B[0m\u001B[1;33m.\u001B[0m\u001B[0maction_dist\u001B[0m\u001B[1;33m.\u001B[0m\u001B[0mproba_distribution\u001B[0m\u001B[1;33m(\u001B[0m\u001B[0maction_logits\u001B[0m\u001B[1;33m=\u001B[0m\u001B[0mmean_actions\u001B[0m\u001B[1;33m)\u001B[0m\u001B[1;33m\u001B[0m\u001B[1;33m\u001B[0m\u001B[0m\n\u001B[0m\u001B[0;32m    614\u001B[0m         \u001B[1;32melif\u001B[0m \u001B[0misinstance\u001B[0m\u001B[1;33m(\u001B[0m\u001B[0mself\u001B[0m\u001B[1;33m.\u001B[0m\u001B[0maction_dist\u001B[0m\u001B[1;33m,\u001B[0m \u001B[0mBernoulliDistribution\u001B[0m\u001B[1;33m)\u001B[0m\u001B[1;33m:\u001B[0m\u001B[1;33m\u001B[0m\u001B[1;33m\u001B[0m\u001B[0m\n\u001B[0;32m    615\u001B[0m             \u001B[1;31m# Here mean_actions are the logits (before rounding to get the binary actions)\u001B[0m\u001B[1;33m\u001B[0m\u001B[1;33m\u001B[0m\u001B[1;33m\u001B[0m\u001B[0m\n",
      "\u001B[1;32m~\\Documents\\Projects\\Python\\Kore_Bot\\venv\\lib\\site-packages\\stable_baselines3\\common\\distributions.py\u001B[0m in \u001B[0;36mproba_distribution\u001B[1;34m(self, action_logits)\u001B[0m\n\u001B[0;32m    324\u001B[0m \u001B[1;33m\u001B[0m\u001B[0m\n\u001B[0;32m    325\u001B[0m     \u001B[1;32mdef\u001B[0m \u001B[0mproba_distribution\u001B[0m\u001B[1;33m(\u001B[0m\u001B[0mself\u001B[0m\u001B[1;33m,\u001B[0m \u001B[0maction_logits\u001B[0m\u001B[1;33m:\u001B[0m \u001B[0mth\u001B[0m\u001B[1;33m.\u001B[0m\u001B[0mTensor\u001B[0m\u001B[1;33m)\u001B[0m \u001B[1;33m->\u001B[0m \u001B[1;34m\"MultiCategoricalDistribution\"\u001B[0m\u001B[1;33m:\u001B[0m\u001B[1;33m\u001B[0m\u001B[1;33m\u001B[0m\u001B[0m\n\u001B[1;32m--> 326\u001B[1;33m         \u001B[0mself\u001B[0m\u001B[1;33m.\u001B[0m\u001B[0mdistribution\u001B[0m \u001B[1;33m=\u001B[0m \u001B[1;33m[\u001B[0m\u001B[0mCategorical\u001B[0m\u001B[1;33m(\u001B[0m\u001B[0mlogits\u001B[0m\u001B[1;33m=\u001B[0m\u001B[0msplit\u001B[0m\u001B[1;33m)\u001B[0m \u001B[1;32mfor\u001B[0m \u001B[0msplit\u001B[0m \u001B[1;32min\u001B[0m \u001B[0mth\u001B[0m\u001B[1;33m.\u001B[0m\u001B[0msplit\u001B[0m\u001B[1;33m(\u001B[0m\u001B[0maction_logits\u001B[0m\u001B[1;33m,\u001B[0m \u001B[0mtuple\u001B[0m\u001B[1;33m(\u001B[0m\u001B[0mself\u001B[0m\u001B[1;33m.\u001B[0m\u001B[0maction_dims\u001B[0m\u001B[1;33m)\u001B[0m\u001B[1;33m,\u001B[0m \u001B[0mdim\u001B[0m\u001B[1;33m=\u001B[0m\u001B[1;36m1\u001B[0m\u001B[1;33m)\u001B[0m\u001B[1;33m]\u001B[0m\u001B[1;33m\u001B[0m\u001B[1;33m\u001B[0m\u001B[0m\n\u001B[0m\u001B[0;32m    327\u001B[0m         \u001B[1;32mreturn\u001B[0m \u001B[0mself\u001B[0m\u001B[1;33m\u001B[0m\u001B[1;33m\u001B[0m\u001B[0m\n\u001B[0;32m    328\u001B[0m \u001B[1;33m\u001B[0m\u001B[0m\n",
      "\u001B[1;32m~\\Documents\\Projects\\Python\\Kore_Bot\\venv\\lib\\site-packages\\stable_baselines3\\common\\distributions.py\u001B[0m in \u001B[0;36m<listcomp>\u001B[1;34m(.0)\u001B[0m\n\u001B[0;32m    324\u001B[0m \u001B[1;33m\u001B[0m\u001B[0m\n\u001B[0;32m    325\u001B[0m     \u001B[1;32mdef\u001B[0m \u001B[0mproba_distribution\u001B[0m\u001B[1;33m(\u001B[0m\u001B[0mself\u001B[0m\u001B[1;33m,\u001B[0m \u001B[0maction_logits\u001B[0m\u001B[1;33m:\u001B[0m \u001B[0mth\u001B[0m\u001B[1;33m.\u001B[0m\u001B[0mTensor\u001B[0m\u001B[1;33m)\u001B[0m \u001B[1;33m->\u001B[0m \u001B[1;34m\"MultiCategoricalDistribution\"\u001B[0m\u001B[1;33m:\u001B[0m\u001B[1;33m\u001B[0m\u001B[1;33m\u001B[0m\u001B[0m\n\u001B[1;32m--> 326\u001B[1;33m         \u001B[0mself\u001B[0m\u001B[1;33m.\u001B[0m\u001B[0mdistribution\u001B[0m \u001B[1;33m=\u001B[0m \u001B[1;33m[\u001B[0m\u001B[0mCategorical\u001B[0m\u001B[1;33m(\u001B[0m\u001B[0mlogits\u001B[0m\u001B[1;33m=\u001B[0m\u001B[0msplit\u001B[0m\u001B[1;33m)\u001B[0m \u001B[1;32mfor\u001B[0m \u001B[0msplit\u001B[0m \u001B[1;32min\u001B[0m \u001B[0mth\u001B[0m\u001B[1;33m.\u001B[0m\u001B[0msplit\u001B[0m\u001B[1;33m(\u001B[0m\u001B[0maction_logits\u001B[0m\u001B[1;33m,\u001B[0m \u001B[0mtuple\u001B[0m\u001B[1;33m(\u001B[0m\u001B[0mself\u001B[0m\u001B[1;33m.\u001B[0m\u001B[0maction_dims\u001B[0m\u001B[1;33m)\u001B[0m\u001B[1;33m,\u001B[0m \u001B[0mdim\u001B[0m\u001B[1;33m=\u001B[0m\u001B[1;36m1\u001B[0m\u001B[1;33m)\u001B[0m\u001B[1;33m]\u001B[0m\u001B[1;33m\u001B[0m\u001B[1;33m\u001B[0m\u001B[0m\n\u001B[0m\u001B[0;32m    327\u001B[0m         \u001B[1;32mreturn\u001B[0m \u001B[0mself\u001B[0m\u001B[1;33m\u001B[0m\u001B[1;33m\u001B[0m\u001B[0m\n\u001B[0;32m    328\u001B[0m \u001B[1;33m\u001B[0m\u001B[0m\n",
      "\u001B[1;32m~\\Documents\\Projects\\Python\\Kore_Bot\\venv\\lib\\site-packages\\torch\\distributions\\categorical.py\u001B[0m in \u001B[0;36m__init__\u001B[1;34m(self, probs, logits, validate_args)\u001B[0m\n\u001B[0;32m     58\u001B[0m                 \u001B[1;32mraise\u001B[0m \u001B[0mValueError\u001B[0m\u001B[1;33m(\u001B[0m\u001B[1;34m\"`logits` parameter must be at least one-dimensional.\"\u001B[0m\u001B[1;33m)\u001B[0m\u001B[1;33m\u001B[0m\u001B[1;33m\u001B[0m\u001B[0m\n\u001B[0;32m     59\u001B[0m             \u001B[1;31m# Normalize\u001B[0m\u001B[1;33m\u001B[0m\u001B[1;33m\u001B[0m\u001B[1;33m\u001B[0m\u001B[0m\n\u001B[1;32m---> 60\u001B[1;33m             \u001B[0mself\u001B[0m\u001B[1;33m.\u001B[0m\u001B[0mlogits\u001B[0m \u001B[1;33m=\u001B[0m \u001B[0mlogits\u001B[0m \u001B[1;33m-\u001B[0m \u001B[0mlogits\u001B[0m\u001B[1;33m.\u001B[0m\u001B[0mlogsumexp\u001B[0m\u001B[1;33m(\u001B[0m\u001B[0mdim\u001B[0m\u001B[1;33m=\u001B[0m\u001B[1;33m-\u001B[0m\u001B[1;36m1\u001B[0m\u001B[1;33m,\u001B[0m \u001B[0mkeepdim\u001B[0m\u001B[1;33m=\u001B[0m\u001B[1;32mTrue\u001B[0m\u001B[1;33m)\u001B[0m\u001B[1;33m\u001B[0m\u001B[1;33m\u001B[0m\u001B[0m\n\u001B[0m\u001B[0;32m     61\u001B[0m         \u001B[0mself\u001B[0m\u001B[1;33m.\u001B[0m\u001B[0m_param\u001B[0m \u001B[1;33m=\u001B[0m \u001B[0mself\u001B[0m\u001B[1;33m.\u001B[0m\u001B[0mprobs\u001B[0m \u001B[1;32mif\u001B[0m \u001B[0mprobs\u001B[0m \u001B[1;32mis\u001B[0m \u001B[1;32mnot\u001B[0m \u001B[1;32mNone\u001B[0m \u001B[1;32melse\u001B[0m \u001B[0mself\u001B[0m\u001B[1;33m.\u001B[0m\u001B[0mlogits\u001B[0m\u001B[1;33m\u001B[0m\u001B[1;33m\u001B[0m\u001B[0m\n\u001B[0;32m     62\u001B[0m         \u001B[0mself\u001B[0m\u001B[1;33m.\u001B[0m\u001B[0m_num_events\u001B[0m \u001B[1;33m=\u001B[0m \u001B[0mself\u001B[0m\u001B[1;33m.\u001B[0m\u001B[0m_param\u001B[0m\u001B[1;33m.\u001B[0m\u001B[0msize\u001B[0m\u001B[1;33m(\u001B[0m\u001B[1;33m)\u001B[0m\u001B[1;33m[\u001B[0m\u001B[1;33m-\u001B[0m\u001B[1;36m1\u001B[0m\u001B[1;33m]\u001B[0m\u001B[1;33m\u001B[0m\u001B[1;33m\u001B[0m\u001B[0m\n",
      "\u001B[1;31mKeyboardInterrupt\u001B[0m: "
     ]
    }
   ],
   "source": [
    "progressbar = ProgressBar()\n",
    "\n",
    "checkpoint_callback = CheckpointCallback(save_freq=40000, save_path=inc_model_path)\n",
    "eval_callback = EvalCallback(env, best_model_save_path=best_model_path,\n",
    "                             log_path=LOG_DIR, eval_freq=4000)\n",
    "callback = CallbackList([progressbar, eval_callback,checkpoint_callback])\n",
    "\n",
    "np.set_printoptions(threshold=sys.maxsize)\n",
    "model = model.learn(total_timesteps=TIMESTEPS, callback=callback)\n",
    "\n"
   ],
   "metadata": {
    "collapsed": false,
    "pycharm": {
     "name": "#%%\n"
    }
   }
  },
  {
   "cell_type": "code",
   "execution_count": null,
   "id": "2f8d1215",
   "metadata": {
    "pycharm": {
     "name": "#%%\n"
    },
    "id": "2f8d1215"
   },
   "outputs": [],
   "source": [
    "# plt.style.use(['seaborn-whitegrid'])\n",
    "\n",
    "# results_plotter.plot_results([LOG_DIR], TIMESTEPS, results_plotter.X_TIMESTEPS, 'Kore Timesteps')\n",
    "# results_plotter.plot_results([LOG_DIR], TIMESTEPS, results_plotter.X_EPISODES, 'Kore Episodes')"
   ]
  },
  {
   "cell_type": "code",
   "execution_count": null,
   "id": "1f4ba85a",
   "metadata": {
    "pycharm": {
     "name": "#%%\n"
    },
    "id": "1f4ba85a"
   },
   "outputs": [],
   "source": [
    "log_files = [os.path.join(LOG_DIR, f'{i}.monitor.csv') for i in range(N_CPU)]\n",
    "\n",
    "for i, log_file in enumerate(log_files):\n",
    "  if os.path.isfile(log_file):\n",
    "    df = pd.read_csv(log_file, skiprows=1)\n",
    "\n",
    "    fig = plt.figure(figsize=(8, 2))\n",
    "    plt.subplot(1, 2, 1, label=log_file)\n",
    "    df['r'].rolling(window=TIMESTEPS//1000).mean().plot(title=f'Rewards {i}')\n",
    "\n",
    "    plt.subplot(1, 2, 2, label=log_file)\n",
    "    df['l'].rolling(window=TIMESTEPS//1000).mean().plot(title=f'Lengths {i}')\n",
    "\n",
    "    plt.tight_layout()\n",
    "    plt.show()"
   ]
  },
  {
   "cell_type": "code",
   "execution_count": null,
   "id": "1b57551b",
   "metadata": {
    "pycharm": {
     "name": "#%%\n"
    },
    "id": "1b57551b"
   },
   "outputs": [],
   "source": [
    "run_test(model, opponent, deterministic=False)"
   ]
  }
 ],
 "metadata": {
  "kernelspec": {
   "display_name": "Python 3 (ipykernel)",
   "language": "python",
   "name": "python3"
  },
  "language_info": {
   "codemirror_mode": {
    "name": "ipython",
    "version": 3
   },
   "file_extension": ".py",
   "mimetype": "text/x-python",
   "name": "python",
   "nbconvert_exporter": "python",
   "pygments_lexer": "ipython3",
   "version": "3.7.8"
  },
  "papermill": {
   "default_parameters": {},
   "duration": 19.777951,
   "end_time": "2022-04-23T21:35:06.917792",
   "environment_variables": {},
   "exception": null,
   "input_path": "__notebook__.ipynb",
   "output_path": "__notebook__.ipynb",
   "parameters": {},
   "start_time": "2022-04-23T21:34:47.139841",
   "version": "2.3.4"
  },
  "colab": {
   "name": "kore-fortune.ipynb",
   "provenance": [],
   "collapsed_sections": [],
   "machine_shape": "hm"
  },
  "accelerator": "GPU",
  "widgets": {
   "application/vnd.jupyter.widget-state+json": {
    "1e6c2a76ffae4d43a6dc5a9f57b64ea7": {
     "model_module": "@jupyter-widgets/controls",
     "model_name": "HBoxModel",
     "model_module_version": "1.5.0",
     "state": {
      "_dom_classes": [],
      "_model_module": "@jupyter-widgets/controls",
      "_model_module_version": "1.5.0",
      "_model_name": "HBoxModel",
      "_view_count": null,
      "_view_module": "@jupyter-widgets/controls",
      "_view_module_version": "1.5.0",
      "_view_name": "HBoxView",
      "box_style": "",
      "children": [
       "IPY_MODEL_ee328d9373b641eeba052195b8037af9",
       "IPY_MODEL_56cde68d9bfd458c819e9f822c429d41",
       "IPY_MODEL_819dc2a2dec146bc96314f4da063e59d"
      ],
      "layout": "IPY_MODEL_356c264a8bc54cad8a6910942e6c77c6"
     }
    },
    "ee328d9373b641eeba052195b8037af9": {
     "model_module": "@jupyter-widgets/controls",
     "model_name": "HTMLModel",
     "model_module_version": "1.5.0",
     "state": {
      "_dom_classes": [],
      "_model_module": "@jupyter-widgets/controls",
      "_model_module_version": "1.5.0",
      "_model_name": "HTMLModel",
      "_view_count": null,
      "_view_module": "@jupyter-widgets/controls",
      "_view_module_version": "1.5.0",
      "_view_name": "HTMLView",
      "description": "",
      "description_tooltip": null,
      "layout": "IPY_MODEL_34ecebf9212647548cc293483f1ed211",
      "placeholder": "​",
      "style": "IPY_MODEL_f927229c587040c898e58a25da1076b6",
      "value": "  0%"
     }
    },
    "56cde68d9bfd458c819e9f822c429d41": {
     "model_module": "@jupyter-widgets/controls",
     "model_name": "FloatProgressModel",
     "model_module_version": "1.5.0",
     "state": {
      "_dom_classes": [],
      "_model_module": "@jupyter-widgets/controls",
      "_model_module_version": "1.5.0",
      "_model_name": "FloatProgressModel",
      "_view_count": null,
      "_view_module": "@jupyter-widgets/controls",
      "_view_module_version": "1.5.0",
      "_view_name": "ProgressView",
      "bar_style": "",
      "description": "",
      "description_tooltip": null,
      "layout": "IPY_MODEL_6538dc88c4d94609a669d8044c54f7d6",
      "max": 400000,
      "min": 0,
      "orientation": "horizontal",
      "style": "IPY_MODEL_2b8983c6fd3d4e92ac2b837e06b3cc88",
      "value": 198
     }
    },
    "819dc2a2dec146bc96314f4da063e59d": {
     "model_module": "@jupyter-widgets/controls",
     "model_name": "HTMLModel",
     "model_module_version": "1.5.0",
     "state": {
      "_dom_classes": [],
      "_model_module": "@jupyter-widgets/controls",
      "_model_module_version": "1.5.0",
      "_model_name": "HTMLModel",
      "_view_count": null,
      "_view_module": "@jupyter-widgets/controls",
      "_view_module_version": "1.5.0",
      "_view_name": "HTMLView",
      "description": "",
      "description_tooltip": null,
      "layout": "IPY_MODEL_77bc63aa1a4b44a9bd21e75520241ec9",
      "placeholder": "​",
      "style": "IPY_MODEL_9d314b2fb5cb4297809752164b644347",
      "value": " 198/400000 [04:47&lt;161:58:22,  1.46s/it]"
     }
    },
    "356c264a8bc54cad8a6910942e6c77c6": {
     "model_module": "@jupyter-widgets/base",
     "model_name": "LayoutModel",
     "model_module_version": "1.2.0",
     "state": {
      "_model_module": "@jupyter-widgets/base",
      "_model_module_version": "1.2.0",
      "_model_name": "LayoutModel",
      "_view_count": null,
      "_view_module": "@jupyter-widgets/base",
      "_view_module_version": "1.2.0",
      "_view_name": "LayoutView",
      "align_content": null,
      "align_items": null,
      "align_self": null,
      "border": null,
      "bottom": null,
      "display": null,
      "flex": null,
      "flex_flow": null,
      "grid_area": null,
      "grid_auto_columns": null,
      "grid_auto_flow": null,
      "grid_auto_rows": null,
      "grid_column": null,
      "grid_gap": null,
      "grid_row": null,
      "grid_template_areas": null,
      "grid_template_columns": null,
      "grid_template_rows": null,
      "height": null,
      "justify_content": null,
      "justify_items": null,
      "left": null,
      "margin": null,
      "max_height": null,
      "max_width": null,
      "min_height": null,
      "min_width": null,
      "object_fit": null,
      "object_position": null,
      "order": null,
      "overflow": null,
      "overflow_x": null,
      "overflow_y": null,
      "padding": null,
      "right": null,
      "top": null,
      "visibility": null,
      "width": null
     }
    },
    "34ecebf9212647548cc293483f1ed211": {
     "model_module": "@jupyter-widgets/base",
     "model_name": "LayoutModel",
     "model_module_version": "1.2.0",
     "state": {
      "_model_module": "@jupyter-widgets/base",
      "_model_module_version": "1.2.0",
      "_model_name": "LayoutModel",
      "_view_count": null,
      "_view_module": "@jupyter-widgets/base",
      "_view_module_version": "1.2.0",
      "_view_name": "LayoutView",
      "align_content": null,
      "align_items": null,
      "align_self": null,
      "border": null,
      "bottom": null,
      "display": null,
      "flex": null,
      "flex_flow": null,
      "grid_area": null,
      "grid_auto_columns": null,
      "grid_auto_flow": null,
      "grid_auto_rows": null,
      "grid_column": null,
      "grid_gap": null,
      "grid_row": null,
      "grid_template_areas": null,
      "grid_template_columns": null,
      "grid_template_rows": null,
      "height": null,
      "justify_content": null,
      "justify_items": null,
      "left": null,
      "margin": null,
      "max_height": null,
      "max_width": null,
      "min_height": null,
      "min_width": null,
      "object_fit": null,
      "object_position": null,
      "order": null,
      "overflow": null,
      "overflow_x": null,
      "overflow_y": null,
      "padding": null,
      "right": null,
      "top": null,
      "visibility": null,
      "width": null
     }
    },
    "f927229c587040c898e58a25da1076b6": {
     "model_module": "@jupyter-widgets/controls",
     "model_name": "DescriptionStyleModel",
     "model_module_version": "1.5.0",
     "state": {
      "_model_module": "@jupyter-widgets/controls",
      "_model_module_version": "1.5.0",
      "_model_name": "DescriptionStyleModel",
      "_view_count": null,
      "_view_module": "@jupyter-widgets/base",
      "_view_module_version": "1.2.0",
      "_view_name": "StyleView",
      "description_width": ""
     }
    },
    "6538dc88c4d94609a669d8044c54f7d6": {
     "model_module": "@jupyter-widgets/base",
     "model_name": "LayoutModel",
     "model_module_version": "1.2.0",
     "state": {
      "_model_module": "@jupyter-widgets/base",
      "_model_module_version": "1.2.0",
      "_model_name": "LayoutModel",
      "_view_count": null,
      "_view_module": "@jupyter-widgets/base",
      "_view_module_version": "1.2.0",
      "_view_name": "LayoutView",
      "align_content": null,
      "align_items": null,
      "align_self": null,
      "border": null,
      "bottom": null,
      "display": null,
      "flex": null,
      "flex_flow": null,
      "grid_area": null,
      "grid_auto_columns": null,
      "grid_auto_flow": null,
      "grid_auto_rows": null,
      "grid_column": null,
      "grid_gap": null,
      "grid_row": null,
      "grid_template_areas": null,
      "grid_template_columns": null,
      "grid_template_rows": null,
      "height": null,
      "justify_content": null,
      "justify_items": null,
      "left": null,
      "margin": null,
      "max_height": null,
      "max_width": null,
      "min_height": null,
      "min_width": null,
      "object_fit": null,
      "object_position": null,
      "order": null,
      "overflow": null,
      "overflow_x": null,
      "overflow_y": null,
      "padding": null,
      "right": null,
      "top": null,
      "visibility": null,
      "width": null
     }
    },
    "2b8983c6fd3d4e92ac2b837e06b3cc88": {
     "model_module": "@jupyter-widgets/controls",
     "model_name": "ProgressStyleModel",
     "model_module_version": "1.5.0",
     "state": {
      "_model_module": "@jupyter-widgets/controls",
      "_model_module_version": "1.5.0",
      "_model_name": "ProgressStyleModel",
      "_view_count": null,
      "_view_module": "@jupyter-widgets/base",
      "_view_module_version": "1.2.0",
      "_view_name": "StyleView",
      "bar_color": null,
      "description_width": ""
     }
    },
    "77bc63aa1a4b44a9bd21e75520241ec9": {
     "model_module": "@jupyter-widgets/base",
     "model_name": "LayoutModel",
     "model_module_version": "1.2.0",
     "state": {
      "_model_module": "@jupyter-widgets/base",
      "_model_module_version": "1.2.0",
      "_model_name": "LayoutModel",
      "_view_count": null,
      "_view_module": "@jupyter-widgets/base",
      "_view_module_version": "1.2.0",
      "_view_name": "LayoutView",
      "align_content": null,
      "align_items": null,
      "align_self": null,
      "border": null,
      "bottom": null,
      "display": null,
      "flex": null,
      "flex_flow": null,
      "grid_area": null,
      "grid_auto_columns": null,
      "grid_auto_flow": null,
      "grid_auto_rows": null,
      "grid_column": null,
      "grid_gap": null,
      "grid_row": null,
      "grid_template_areas": null,
      "grid_template_columns": null,
      "grid_template_rows": null,
      "height": null,
      "justify_content": null,
      "justify_items": null,
      "left": null,
      "margin": null,
      "max_height": null,
      "max_width": null,
      "min_height": null,
      "min_width": null,
      "object_fit": null,
      "object_position": null,
      "order": null,
      "overflow": null,
      "overflow_x": null,
      "overflow_y": null,
      "padding": null,
      "right": null,
      "top": null,
      "visibility": null,
      "width": null
     }
    },
    "9d314b2fb5cb4297809752164b644347": {
     "model_module": "@jupyter-widgets/controls",
     "model_name": "DescriptionStyleModel",
     "model_module_version": "1.5.0",
     "state": {
      "_model_module": "@jupyter-widgets/controls",
      "_model_module_version": "1.5.0",
      "_model_name": "DescriptionStyleModel",
      "_view_count": null,
      "_view_module": "@jupyter-widgets/base",
      "_view_module_version": "1.2.0",
      "_view_name": "StyleView",
      "description_width": ""
     }
    }
   }
  }
 },
 "nbformat": 4,
 "nbformat_minor": 5
}