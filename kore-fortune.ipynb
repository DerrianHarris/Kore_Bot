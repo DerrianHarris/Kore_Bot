{
 "cells": [
  {
   "cell_type": "code",
   "execution_count": 1,
   "id": "1793d6ea",
   "metadata": {
    "pycharm": {
     "name": "#%%\n"
    }
   },
   "outputs": [],
   "source": [
    "%%capture\n",
    "# install the latest version of kaggle_environments\n",
    "!pip install --upgrade kaggle_environments"
   ]
  },
  {
   "cell_type": "code",
   "execution_count": 3,
   "id": "b0f9c8f0",
   "metadata": {
    "execution": {
     "iopub.execute_input": "2022-04-23T21:34:57.805127Z",
     "iopub.status.busy": "2022-04-23T21:34:57.804510Z",
     "iopub.status.idle": "2022-04-23T21:34:58.002750Z",
     "shell.execute_reply": "2022-04-23T21:34:58.001985Z"
    },
    "papermill": {
     "duration": 0.207391,
     "end_time": "2022-04-23T21:34:58.004943",
     "exception": false,
     "start_time": "2022-04-23T21:34:57.797552",
     "status": "completed"
    },
    "pycharm": {
     "name": "#%%\n"
    },
    "tags": []
   },
   "outputs": [
    {
     "name": "stdout",
     "output_type": "stream",
     "text": [
      "CPU Cores = 16\n"
     ]
    },
    {
     "ename": "TypeError",
     "evalue": "only integer scalar arrays can be converted to a scalar index",
     "output_type": "error",
     "traceback": [
      "\u001B[1;31m---------------------------------------------------------------------------\u001B[0m",
      "\u001B[1;31mTypeError\u001B[0m                                 Traceback (most recent call last)",
      "\u001B[1;32m~\\AppData\\Local\\Temp\\ipykernel_43044\\1127499423.py\u001B[0m in \u001B[0;36m<module>\u001B[1;34m\u001B[0m\n\u001B[0;32m     25\u001B[0m \u001B[1;33m\u001B[0m\u001B[0m\n\u001B[0;32m     26\u001B[0m \u001B[0mtest_env\u001B[0m \u001B[1;33m=\u001B[0m \u001B[0mKoreGymEnv\u001B[0m\u001B[1;33m(\u001B[0m\u001B[0mrandom_agent\u001B[0m\u001B[1;33m)\u001B[0m\u001B[1;33m\u001B[0m\u001B[1;33m\u001B[0m\u001B[0m\n\u001B[1;32m---> 27\u001B[1;33m \u001B[0mcheck_env\u001B[0m\u001B[1;33m(\u001B[0m\u001B[0mtest_env\u001B[0m\u001B[1;33m)\u001B[0m\u001B[1;33m\u001B[0m\u001B[1;33m\u001B[0m\u001B[0m\n\u001B[0m",
      "\u001B[1;32m~\\Documents\\Projects\\Python\\Kore_Bot\\venv\\lib\\site-packages\\stable_baselines3\\common\\env_checker.py\u001B[0m in \u001B[0;36mcheck_env\u001B[1;34m(env, warn, skip_render_check)\u001B[0m\n\u001B[0;32m    281\u001B[0m \u001B[1;33m\u001B[0m\u001B[0m\n\u001B[0;32m    282\u001B[0m     \u001B[1;31m# ============ Check the returned values ===============\u001B[0m\u001B[1;33m\u001B[0m\u001B[1;33m\u001B[0m\u001B[1;33m\u001B[0m\u001B[0m\n\u001B[1;32m--> 283\u001B[1;33m     \u001B[0m_check_returned_values\u001B[0m\u001B[1;33m(\u001B[0m\u001B[0menv\u001B[0m\u001B[1;33m,\u001B[0m \u001B[0mobservation_space\u001B[0m\u001B[1;33m,\u001B[0m \u001B[0maction_space\u001B[0m\u001B[1;33m)\u001B[0m\u001B[1;33m\u001B[0m\u001B[1;33m\u001B[0m\u001B[0m\n\u001B[0m\u001B[0;32m    284\u001B[0m \u001B[1;33m\u001B[0m\u001B[0m\n\u001B[0;32m    285\u001B[0m     \u001B[1;31m# ==== Check the render method and the declared render modes ====\u001B[0m\u001B[1;33m\u001B[0m\u001B[1;33m\u001B[0m\u001B[1;33m\u001B[0m\u001B[0m\n",
      "\u001B[1;32m~\\Documents\\Projects\\Python\\Kore_Bot\\venv\\lib\\site-packages\\stable_baselines3\\common\\env_checker.py\u001B[0m in \u001B[0;36m_check_returned_values\u001B[1;34m(env, observation_space, action_space)\u001B[0m\n\u001B[0;32m    140\u001B[0m     \"\"\"\n\u001B[0;32m    141\u001B[0m     \u001B[1;31m# because env inherits from gym.Env, we assume that `reset()` and `step()` methods exists\u001B[0m\u001B[1;33m\u001B[0m\u001B[1;33m\u001B[0m\u001B[1;33m\u001B[0m\u001B[0m\n\u001B[1;32m--> 142\u001B[1;33m     \u001B[0mobs\u001B[0m \u001B[1;33m=\u001B[0m \u001B[0menv\u001B[0m\u001B[1;33m.\u001B[0m\u001B[0mreset\u001B[0m\u001B[1;33m(\u001B[0m\u001B[1;33m)\u001B[0m\u001B[1;33m\u001B[0m\u001B[1;33m\u001B[0m\u001B[0m\n\u001B[0m\u001B[0;32m    143\u001B[0m \u001B[1;33m\u001B[0m\u001B[0m\n\u001B[0;32m    144\u001B[0m     \u001B[1;32mif\u001B[0m \u001B[0misinstance\u001B[0m\u001B[1;33m(\u001B[0m\u001B[0mobservation_space\u001B[0m\u001B[1;33m,\u001B[0m \u001B[0mspaces\u001B[0m\u001B[1;33m.\u001B[0m\u001B[0mDict\u001B[0m\u001B[1;33m)\u001B[0m\u001B[1;33m:\u001B[0m\u001B[1;33m\u001B[0m\u001B[1;33m\u001B[0m\u001B[0m\n",
      "\u001B[1;32m~\\Documents\\Projects\\Python\\Kore_Bot\\KoreGymEnv.py\u001B[0m in \u001B[0;36mreset\u001B[1;34m(self)\u001B[0m\n\u001B[0;32m     51\u001B[0m         \u001B[0mself\u001B[0m\u001B[1;33m.\u001B[0m\u001B[0mobs\u001B[0m \u001B[1;33m=\u001B[0m \u001B[0mself\u001B[0m\u001B[1;33m.\u001B[0m\u001B[0mreset_env\u001B[0m\u001B[1;33m(\u001B[0m\u001B[1;33m)\u001B[0m\u001B[1;33m\u001B[0m\u001B[1;33m\u001B[0m\u001B[0m\n\u001B[0;32m     52\u001B[0m         \u001B[0mself\u001B[0m\u001B[1;33m.\u001B[0m\u001B[0mlast_obs\u001B[0m \u001B[1;33m=\u001B[0m \u001B[1;32mNone\u001B[0m\u001B[1;33m\u001B[0m\u001B[1;33m\u001B[0m\u001B[0m\n\u001B[1;32m---> 53\u001B[1;33m         \u001B[0mx_obs\u001B[0m \u001B[1;33m=\u001B[0m \u001B[0mtransform_observation\u001B[0m\u001B[1;33m(\u001B[0m\u001B[1;32mFalse\u001B[0m\u001B[1;33m,\u001B[0m \u001B[0mself\u001B[0m\u001B[1;33m.\u001B[0m\u001B[0mobs\u001B[0m\u001B[1;33m,\u001B[0m \u001B[0mself\u001B[0m\u001B[1;33m.\u001B[0m\u001B[0mconfig\u001B[0m\u001B[1;33m,\u001B[0m \u001B[0mself\u001B[0m\u001B[1;33m.\u001B[0m\u001B[0mnum_features\u001B[0m\u001B[1;33m)\u001B[0m\u001B[1;33m\u001B[0m\u001B[1;33m\u001B[0m\u001B[0m\n\u001B[0m\u001B[0;32m     54\u001B[0m         \u001B[1;32mreturn\u001B[0m \u001B[0mx_obs\u001B[0m\u001B[1;33m\u001B[0m\u001B[1;33m\u001B[0m\u001B[0m\n\u001B[0;32m     55\u001B[0m \u001B[1;33m\u001B[0m\u001B[0m\n",
      "\u001B[1;32m~\\Documents\\Projects\\Python\\Kore_Bot\\KoreGymEnvHelper.py\u001B[0m in \u001B[0;36mtransform_observation\u001B[1;34m(done, obs, config, num_features)\u001B[0m\n\u001B[0;32m    127\u001B[0m \u001B[1;33m\u001B[0m\u001B[0m\n\u001B[0;32m    128\u001B[0m     \u001B[0mx_obs\u001B[0m \u001B[1;33m=\u001B[0m \u001B[0mnp\u001B[0m\u001B[1;33m.\u001B[0m\u001B[0mnan_to_num\u001B[0m\u001B[1;33m(\u001B[0m\u001B[0mx_obs\u001B[0m\u001B[1;33m.\u001B[0m\u001B[0mreshape\u001B[0m\u001B[1;33m(\u001B[0m\u001B[1;33m(\u001B[0m\u001B[0mconfig\u001B[0m\u001B[1;33m.\u001B[0m\u001B[0msize\u001B[0m\u001B[1;33m,\u001B[0m \u001B[0mconfig\u001B[0m\u001B[1;33m.\u001B[0m\u001B[0msize\u001B[0m\u001B[1;33m,\u001B[0m \u001B[0mnum_features\u001B[0m\u001B[1;33m)\u001B[0m\u001B[1;33m)\u001B[0m\u001B[1;33m)\u001B[0m\u001B[1;33m.\u001B[0m\u001B[0mastype\u001B[0m\u001B[1;33m(\u001B[0m\u001B[0mnp\u001B[0m\u001B[1;33m.\u001B[0m\u001B[0mfloat32\u001B[0m\u001B[1;33m)\u001B[0m\u001B[1;33m\u001B[0m\u001B[1;33m\u001B[0m\u001B[0m\n\u001B[1;32m--> 129\u001B[1;33m     \u001B[0mtest\u001B[0m \u001B[1;33m=\u001B[0m \u001B[0mx_obs\u001B[0m\u001B[1;33m[\u001B[0m\u001B[0mnp\u001B[0m\u001B[1;33m.\u001B[0m\u001B[0many\u001B[0m\u001B[1;33m(\u001B[0m\u001B[1;33m[\u001B[0m\u001B[0mnp\u001B[0m\u001B[1;33m.\u001B[0m\u001B[0misnan\u001B[0m\u001B[1;33m(\u001B[0m\u001B[0mx_obs\u001B[0m\u001B[1;33m)\u001B[0m\u001B[1;33m]\u001B[0m\u001B[1;33m)\u001B[0m\u001B[1;33m]\u001B[0m\u001B[1;33m\u001B[0m\u001B[1;33m\u001B[0m\u001B[0m\n\u001B[0m\u001B[0;32m    130\u001B[0m     \u001B[0mprint\u001B[0m\u001B[1;33m(\u001B[0m\u001B[0mtest\u001B[0m\u001B[1;33m)\u001B[0m\u001B[1;33m\u001B[0m\u001B[1;33m\u001B[0m\u001B[0m\n\u001B[0;32m    131\u001B[0m     \u001B[1;32mreturn\u001B[0m \u001B[0mx_obs\u001B[0m\u001B[1;33m\u001B[0m\u001B[1;33m\u001B[0m\u001B[0m\n",
      "\u001B[1;32m<__array_function__ internals>\u001B[0m in \u001B[0;36many\u001B[1;34m(*args, **kwargs)\u001B[0m\n",
      "\u001B[1;32m~\\Documents\\Projects\\Python\\Kore_Bot\\venv\\lib\\site-packages\\numpy\\core\\fromnumeric.py\u001B[0m in \u001B[0;36many\u001B[1;34m(a, axis, out, keepdims, where)\u001B[0m\n\u001B[0;32m   2357\u001B[0m     \"\"\"\n\u001B[0;32m   2358\u001B[0m     return _wrapreduction(a, np.logical_or, 'any', axis, None, out,\n\u001B[1;32m-> 2359\u001B[1;33m                           keepdims=keepdims, where=where)\n\u001B[0m\u001B[0;32m   2360\u001B[0m \u001B[1;33m\u001B[0m\u001B[0m\n\u001B[0;32m   2361\u001B[0m \u001B[1;33m\u001B[0m\u001B[0m\n",
      "\u001B[1;32m~\\Documents\\Projects\\Python\\Kore_Bot\\venv\\lib\\site-packages\\numpy\\core\\fromnumeric.py\u001B[0m in \u001B[0;36m_wrapreduction\u001B[1;34m(obj, ufunc, method, axis, dtype, out, **kwargs)\u001B[0m\n\u001B[0;32m     84\u001B[0m                 \u001B[1;32mreturn\u001B[0m \u001B[0mreduction\u001B[0m\u001B[1;33m(\u001B[0m\u001B[0maxis\u001B[0m\u001B[1;33m=\u001B[0m\u001B[0maxis\u001B[0m\u001B[1;33m,\u001B[0m \u001B[0mout\u001B[0m\u001B[1;33m=\u001B[0m\u001B[0mout\u001B[0m\u001B[1;33m,\u001B[0m \u001B[1;33m**\u001B[0m\u001B[0mpasskwargs\u001B[0m\u001B[1;33m)\u001B[0m\u001B[1;33m\u001B[0m\u001B[1;33m\u001B[0m\u001B[0m\n\u001B[0;32m     85\u001B[0m \u001B[1;33m\u001B[0m\u001B[0m\n\u001B[1;32m---> 86\u001B[1;33m     \u001B[1;32mreturn\u001B[0m \u001B[0mufunc\u001B[0m\u001B[1;33m.\u001B[0m\u001B[0mreduce\u001B[0m\u001B[1;33m(\u001B[0m\u001B[0mobj\u001B[0m\u001B[1;33m,\u001B[0m \u001B[0maxis\u001B[0m\u001B[1;33m,\u001B[0m \u001B[0mdtype\u001B[0m\u001B[1;33m,\u001B[0m \u001B[0mout\u001B[0m\u001B[1;33m,\u001B[0m \u001B[1;33m**\u001B[0m\u001B[0mpasskwargs\u001B[0m\u001B[1;33m)\u001B[0m\u001B[1;33m\u001B[0m\u001B[1;33m\u001B[0m\u001B[0m\n\u001B[0m\u001B[0;32m     87\u001B[0m \u001B[1;33m\u001B[0m\u001B[0m\n\u001B[0;32m     88\u001B[0m \u001B[1;33m\u001B[0m\u001B[0m\n",
      "\u001B[1;31mTypeError\u001B[0m: only integer scalar arrays can be converted to a scalar index"
     ]
    }
   ],
   "source": [
    "import os\n",
    "from KoreGymEnv import KoreGymEnv\n",
    "from kaggle_environments import make\n",
    "from kaggle_environments.envs.kore_fleets.kore_fleets import random_agent, attacker_agent, balanced_agent, miner_agent\n",
    "\n",
    "from stable_baselines3.common.env_checker import check_env\n",
    "from stable_baselines3.ppo import MlpPolicy\n",
    "from stable_baselines3 import PPO\n",
    "from stable_baselines3.common.monitor import Monitor\n",
    "from stable_baselines3.common.vec_env import DummyVecEnv\n",
    "from stable_baselines3.common.callbacks import BaseCallback\n",
    "from stable_baselines3.common import results_plotter\n",
    "\n",
    "from matplotlib import pyplot as plt\n",
    "\n",
    "from tqdm.notebook import tqdm\n",
    "\n",
    "import pandas as pd\n",
    "\n",
    "from random import shuffle\n",
    "from KoreGymEnvHelper import transform_observation, transform_actions\n",
    "\n",
    "N_CPU = os.cpu_count()\n",
    "print('CPU Cores =', N_CPU)\n",
    "\n",
    "test_env = KoreGymEnv(random_agent)\n",
    "check_env(test_env)"
   ]
  },
  {
   "cell_type": "code",
   "execution_count": 2,
   "id": "81403862",
   "metadata": {
    "pycharm": {
     "name": "#%%\n"
    }
   },
   "outputs": [],
   "source": [
    "LOG_DIR = './log/'\n",
    "MODEL_DIR = '../input/model'\n",
    "MODEL_FILE = 'model.pkl'\n",
    "os.makedirs(LOG_DIR, exist_ok=True)\n",
    "os.makedirs(MODEL_DIR, exist_ok=True)\n",
    "\n",
    "def make_env(opponent,rank=0):\n",
    "    def _init():\n",
    "        env = KoreGymEnv(opponent)\n",
    "        log_file = os.path.join(LOG_DIR, str(rank))\n",
    "        env = Monitor(env, log_file, allow_early_resets=True)\n",
    "        return env\n",
    "    return _init\n",
    "\n",
    "class ProgressBar(BaseCallback):\n",
    "    def __init__(self, verbose=0):\n",
    "        super(ProgressBar, self).__init__(verbose)\n",
    "        self.pbar = None\n",
    "\n",
    "    def _on_training_start(self):\n",
    "        self.pbar = tqdm(total=self.locals['total_timesteps'])\n",
    "\n",
    "    def _on_rollout_start(self):\n",
    "        self.pbar.refresh()\n",
    "\n",
    "    def _on_step(self):\n",
    "         self.pbar.update()\n",
    "\n",
    "    def _on_training_end(self):\n",
    "        self.pbar.close()\n",
    "        self.pbar = None\n",
    "\n",
    "def get_actions(model, obs, config, deterministic=False):\n",
    "    x_obs = transform_observation(False, obs, config, 12)\n",
    "    actions, state = model.predict(x_obs, deterministic=deterministic)\n",
    "    next_actions = transform_actions(actions, obs, config)\n",
    "    return next_actions\n",
    "\n",
    "def run_test(model, opponent,deterministic=False):\n",
    "    env = make('kore_fleets', debug=True)\n",
    "    config = env.configuration\n",
    "\n",
    "    game_agents = [None, opponent]\n",
    "    shuffle(game_agents)\n",
    "\n",
    "    print('Agents:', game_agents)\n",
    "\n",
    "    trainer = env.train(game_agents)\n",
    "    obs = trainer.reset()\n",
    "\n",
    "    while not env.done:\n",
    "        actions = get_actions(model, obs, config, deterministic=deterministic)\n",
    "        obs, reward, done, info = trainer.step(actions)\n",
    "\n",
    "    env.render(mode='ipython', width=640, height=480)\n"
   ]
  },
  {
   "cell_type": "code",
   "execution_count": 4,
   "id": "8865aa27",
   "metadata": {
    "pycharm": {
     "name": "#%%\n"
    },
    "scrolled": false
   },
   "outputs": [
    {
     "name": "stdout",
     "output_type": "stream",
     "text": [
      "Making model\n"
     ]
    }
   ],
   "source": [
    "opponent = random_agent\n",
    "env = DummyVecEnv([make_env(opponent)])\n",
    "try:\n",
    "    model_path = os.path.join(MODEL_DIR, MODEL_FILE)\n",
    "    model = PPO.load(model_path)\n",
    "    model.set_env(env)\n",
    "    print('Loaded model')\n",
    "\n",
    "except:\n",
    "    print('Making model')\n",
    "    model = PPO(policy=MlpPolicy,\n",
    "                env=env,\n",
    "                verbose=0,\n",
    "                n_steps=400,\n",
    "                seed=None,\n",
    "                batch_size=50,\n",
    "                _init_setup_model=True,\n",
    "                learning_rate=0.00025,\n",
    "                gamma=0.99,\n",
    "                ent_coef=0.01,\n",
    "                vf_coef=0.5,\n",
    "                max_grad_norm=0.5,\n",
    "                policy_kwargs=None,\n",
    "                tensorboard_log=None)"
   ]
  },
  {
   "cell_type": "code",
   "execution_count": 5,
   "id": "c4785794",
   "metadata": {
    "pycharm": {
     "name": "#%%\n"
    }
   },
   "outputs": [
    {
     "data": {
      "text/plain": "  0%|          | 0/5 [00:00<?, ?it/s]",
      "application/vnd.jupyter.widget-view+json": {
       "version_major": 2,
       "version_minor": 0,
       "model_id": "87c6b9bdc9324d1780d98666aa868379"
      }
     },
     "metadata": {},
     "output_type": "display_data"
    },
    {
     "name": "stdout",
     "output_type": "stream",
     "text": [
      "[ 0  1 18  9  1 45]\n",
      "[ 0  1 18  1  1 34]\n",
      "[1 1 1 1 1 4]\n",
      "[ 0  0 14  8  1 39]\n",
      "[ 1  0 18  3  0 67]\n",
      "[ 1  0  1 10  1 66]\n",
      "[ 0  0  7  1  0 32]\n",
      "[ 2  1  9  1  1 92]\n",
      "flight plan will be truncated: flight plan for 1 must be at most 1\n",
      "flight plan will be truncated: flight plan for 1 must be at most 1\n",
      "flight plan will be truncated: flight plan for 1 must be at most 1\n",
      "[2 0 9 7 1 9]\n",
      "[ 2  1 19 13  1 97]\n",
      "[ 2  0  4 19  1  6]\n",
      "[ 1  1 16 14  0 66]\n",
      "[ 1  1  7 15  0 39]\n",
      "[ 0  1  6  0  1 75]\n",
      "[ 2  1  0 12  1 46]\n",
      "flight plan will be truncated: flight plan for 1 must be at most 1\n",
      "flight plan will be truncated: flight plan for 1 must be at most 1\n",
      "flight plan will be truncated: flight plan for 1 must be at most 1\n",
      "[ 0  1 13  5  0 70]\n",
      "[ 2  1  0  3  1 17]\n",
      "[ 1  0 18 17  0 60]\n",
      "[ 2  1 19  4  1 48]\n",
      "flight plan will be truncated: flight plan for 1 must be at most 1\n",
      "flight plan will be truncated: flight plan for 1 must be at most 1\n",
      "flight plan will be truncated: flight plan for 1 must be at most 1\n",
      "[ 0  1 16  4  0 11]\n",
      "[ 1  1 16  0  0 60]\n",
      "[ 1  1 12 19  1 72]\n",
      "[ 1  1 14 19  1 61]\n",
      "[ 1  1 11 17  1 51]\n",
      "[ 2  1  1  4  1 79]\n",
      "[ 1  1  1 16  0 59]\n",
      "[ 0  1  0 12  0 51]\n",
      "[ 0  1 17  4  1 46]\n",
      "[ 2  0 10 15  1  4]\n",
      "[ 0  0 12  5  0 92]\n",
      "[ 2  1  0  9  0 96]\n",
      "[ 0  1 10  7  1 58]\n",
      "[ 2  1 11 16  0 67]\n",
      "[ 2  1  7  7  1 17]\n",
      "[ 1  0  5 10  1 29]\n",
      "[ 2  0 12  5  1 22]\n",
      "flight plan will be truncated: flight plan for 1 must be at most 1\n",
      "flight plan will be truncated: flight plan for 1 must be at most 1\n",
      "flight plan will be truncated: flight plan for 1 must be at most 1\n",
      "[ 0  0 17 10  1 93]\n",
      "[2 0 4 7 1 1]\n",
      "[ 1  0  2  7  0 99]\n",
      "[1 1 5 5 0 9]\n",
      "[ 0  0 13  1  0 39]\n",
      "[ 2  0  8 14  1 84]\n",
      "flight plan will be truncated: flight plan for 7 must be at most 4\n",
      "flight plan will be truncated: flight plan for 7 must be at most 4\n",
      "flight plan will be truncated: flight plan for 7 must be at most 4\n",
      "[ 1  1 17 19  1 29]\n",
      "[ 2  1 13  7  1 71]\n",
      "flight plan will be truncated: flight plan for 2 must be at most 2\n",
      "flight plan will be truncated: flight plan for 2 must be at most 2\n",
      "flight plan will be truncated: flight plan for 2 must be at most 2\n",
      "[ 2  0  6  5  0 94]\n",
      "[ 1  0  0 19  1 62]\n",
      "[ 0  0  2 17  0 51]\n",
      "[ 2  1 18 13  0 22]\n",
      "[ 1  0  5 19  0 47]\n",
      "[ 1  0 19 18  0 67]\n",
      "[ 2  1 16 14  0 71]\n",
      "[ 2  1  2  6  1 34]\n",
      "flight plan will be truncated: flight plan for 3 must be at most 3\n",
      "flight plan will be truncated: flight plan for 3 must be at most 3\n",
      "flight plan will be truncated: flight plan for 3 must be at most 3\n",
      "[ 1  1  1  4  1 51]\n",
      "[ 1  1  6 15  1 26]\n",
      "[ 2  1  1 10  1 49]\n",
      "flight plan will be truncated: flight plan for 4 must be at most 3\n",
      "flight plan will be truncated: flight plan for 4 must be at most 3\n",
      "flight plan will be truncated: flight plan for 4 must be at most 3\n",
      "[ 1  0 16 12  1  8]\n",
      "[ 0  0  6 13  0 52]\n",
      "[ 1  1 16 11  1 46]\n",
      "[ 2  1 16 19  1 85]\n",
      "[ 1  0 12 18  0 39]\n",
      "[ 1  0  1 12  0 70]\n",
      "[ 0  0 10  7  1 28]\n",
      "[ 0  1  9  1  1 25]\n",
      "[ 2  0 13 11  1 33]\n",
      "flight plan will be truncated: flight plan for 2 must be at most 2\n",
      "flight plan will be truncated: flight plan for 2 must be at most 2\n",
      "flight plan will be truncated: flight plan for 2 must be at most 2\n",
      "[ 1  0 10  9  1 76]\n",
      "[ 2  0  6 15  1 11]\n",
      "[ 0  1 10 18  1 12]\n",
      "[ 2  1 19  7  1 13]\n",
      "flight plan will be truncated: flight plan for 1 must be at most 1\n",
      "flight plan will be truncated: flight plan for 1 must be at most 1\n",
      "flight plan will be truncated: flight plan for 1 must be at most 1\n",
      "[ 1  1 19  6  1 90]\n",
      "[ 0  1  7  2  1 29]\n",
      "[ 0  1  9 13  0 56]\n",
      "[ 2  0 11  8  0  4]\n",
      "[ 0  0 16 17  0 32]\n",
      "[ 0  1  1 19  1 15]\n",
      "[1 1 6 6 1 5]\n",
      "[ 0  0 17  4  1 42]\n",
      "[ 1  0  5  5  1 33]\n",
      "[ 1  0 15 18  1 44]\n",
      "[ 0  1 11  6  1 13]\n",
      "[ 1  1 10  5  1 62]\n",
      "[ 0  0  5  5  1 81]\n",
      "[ 1  0 11 16  0 77]\n",
      "[ 1  1  2 12  0 91]\n"
     ]
    },
    {
     "ename": "KeyboardInterrupt",
     "evalue": "",
     "output_type": "error",
     "traceback": [
      "\u001B[1;31m---------------------------------------------------------------------------\u001B[0m",
      "\u001B[1;31mKeyboardInterrupt\u001B[0m                         Traceback (most recent call last)",
      "\u001B[1;32m~\\AppData\\Local\\Temp\\ipykernel_54388\\1510753914.py\u001B[0m in \u001B[0;36m<module>\u001B[1;34m\u001B[0m\n\u001B[0;32m      1\u001B[0m \u001B[0mTIMESTEPS\u001B[0m \u001B[1;33m=\u001B[0m \u001B[1;36m1000000\u001B[0m\u001B[1;33m\u001B[0m\u001B[1;33m\u001B[0m\u001B[0m\n\u001B[0;32m      2\u001B[0m \u001B[0mprogressbar\u001B[0m \u001B[1;33m=\u001B[0m \u001B[0mProgressBar\u001B[0m\u001B[1;33m(\u001B[0m\u001B[1;33m)\u001B[0m\u001B[1;33m\u001B[0m\u001B[1;33m\u001B[0m\u001B[0m\n\u001B[1;32m----> 3\u001B[1;33m \u001B[0mmodel\u001B[0m \u001B[1;33m=\u001B[0m \u001B[0mmodel\u001B[0m\u001B[1;33m.\u001B[0m\u001B[0mlearn\u001B[0m\u001B[1;33m(\u001B[0m\u001B[0mtotal_timesteps\u001B[0m\u001B[1;33m=\u001B[0m\u001B[0mTIMESTEPS\u001B[0m\u001B[1;33m,\u001B[0m \u001B[0mcallback\u001B[0m\u001B[1;33m=\u001B[0m\u001B[0mprogressbar\u001B[0m\u001B[1;33m)\u001B[0m\u001B[1;33m\u001B[0m\u001B[1;33m\u001B[0m\u001B[0m\n\u001B[0m\u001B[0;32m      4\u001B[0m \u001B[1;33m\u001B[0m\u001B[0m\n\u001B[0;32m      5\u001B[0m \u001B[0mmodel\u001B[0m\u001B[1;33m.\u001B[0m\u001B[0msave\u001B[0m\u001B[1;33m(\u001B[0m\u001B[0mMODEL_FILE\u001B[0m\u001B[1;33m)\u001B[0m\u001B[1;33m\u001B[0m\u001B[1;33m\u001B[0m\u001B[0m\n",
      "\u001B[1;32m~\\Documents\\Projects\\Python\\Kore_Bot\\venv\\lib\\site-packages\\stable_baselines3\\ppo\\ppo.py\u001B[0m in \u001B[0;36mlearn\u001B[1;34m(self, total_timesteps, callback, log_interval, eval_env, eval_freq, n_eval_episodes, tb_log_name, eval_log_path, reset_num_timesteps)\u001B[0m\n\u001B[0;32m    311\u001B[0m             \u001B[0mtb_log_name\u001B[0m\u001B[1;33m=\u001B[0m\u001B[0mtb_log_name\u001B[0m\u001B[1;33m,\u001B[0m\u001B[1;33m\u001B[0m\u001B[1;33m\u001B[0m\u001B[0m\n\u001B[0;32m    312\u001B[0m             \u001B[0meval_log_path\u001B[0m\u001B[1;33m=\u001B[0m\u001B[0meval_log_path\u001B[0m\u001B[1;33m,\u001B[0m\u001B[1;33m\u001B[0m\u001B[1;33m\u001B[0m\u001B[0m\n\u001B[1;32m--> 313\u001B[1;33m             \u001B[0mreset_num_timesteps\u001B[0m\u001B[1;33m=\u001B[0m\u001B[0mreset_num_timesteps\u001B[0m\u001B[1;33m,\u001B[0m\u001B[1;33m\u001B[0m\u001B[1;33m\u001B[0m\u001B[0m\n\u001B[0m\u001B[0;32m    314\u001B[0m         )\n",
      "\u001B[1;32m~\\Documents\\Projects\\Python\\Kore_Bot\\venv\\lib\\site-packages\\stable_baselines3\\common\\on_policy_algorithm.py\u001B[0m in \u001B[0;36mlearn\u001B[1;34m(self, total_timesteps, callback, log_interval, eval_env, eval_freq, n_eval_episodes, tb_log_name, eval_log_path, reset_num_timesteps)\u001B[0m\n\u001B[0;32m    248\u001B[0m         \u001B[1;32mwhile\u001B[0m \u001B[0mself\u001B[0m\u001B[1;33m.\u001B[0m\u001B[0mnum_timesteps\u001B[0m \u001B[1;33m<\u001B[0m \u001B[0mtotal_timesteps\u001B[0m\u001B[1;33m:\u001B[0m\u001B[1;33m\u001B[0m\u001B[1;33m\u001B[0m\u001B[0m\n\u001B[0;32m    249\u001B[0m \u001B[1;33m\u001B[0m\u001B[0m\n\u001B[1;32m--> 250\u001B[1;33m             \u001B[0mcontinue_training\u001B[0m \u001B[1;33m=\u001B[0m \u001B[0mself\u001B[0m\u001B[1;33m.\u001B[0m\u001B[0mcollect_rollouts\u001B[0m\u001B[1;33m(\u001B[0m\u001B[0mself\u001B[0m\u001B[1;33m.\u001B[0m\u001B[0menv\u001B[0m\u001B[1;33m,\u001B[0m \u001B[0mcallback\u001B[0m\u001B[1;33m,\u001B[0m \u001B[0mself\u001B[0m\u001B[1;33m.\u001B[0m\u001B[0mrollout_buffer\u001B[0m\u001B[1;33m,\u001B[0m \u001B[0mn_rollout_steps\u001B[0m\u001B[1;33m=\u001B[0m\u001B[0mself\u001B[0m\u001B[1;33m.\u001B[0m\u001B[0mn_steps\u001B[0m\u001B[1;33m)\u001B[0m\u001B[1;33m\u001B[0m\u001B[1;33m\u001B[0m\u001B[0m\n\u001B[0m\u001B[0;32m    251\u001B[0m \u001B[1;33m\u001B[0m\u001B[0m\n\u001B[0;32m    252\u001B[0m             \u001B[1;32mif\u001B[0m \u001B[0mcontinue_training\u001B[0m \u001B[1;32mis\u001B[0m \u001B[1;32mFalse\u001B[0m\u001B[1;33m:\u001B[0m\u001B[1;33m\u001B[0m\u001B[1;33m\u001B[0m\u001B[0m\n",
      "\u001B[1;32m~\\Documents\\Projects\\Python\\Kore_Bot\\venv\\lib\\site-packages\\stable_baselines3\\common\\on_policy_algorithm.py\u001B[0m in \u001B[0;36mcollect_rollouts\u001B[1;34m(self, env, callback, rollout_buffer, n_rollout_steps)\u001B[0m\n\u001B[0;32m    167\u001B[0m                 \u001B[1;31m# Convert to pytorch tensor or to TensorDict\u001B[0m\u001B[1;33m\u001B[0m\u001B[1;33m\u001B[0m\u001B[1;33m\u001B[0m\u001B[0m\n\u001B[0;32m    168\u001B[0m                 \u001B[0mobs_tensor\u001B[0m \u001B[1;33m=\u001B[0m \u001B[0mobs_as_tensor\u001B[0m\u001B[1;33m(\u001B[0m\u001B[0mself\u001B[0m\u001B[1;33m.\u001B[0m\u001B[0m_last_obs\u001B[0m\u001B[1;33m,\u001B[0m \u001B[0mself\u001B[0m\u001B[1;33m.\u001B[0m\u001B[0mdevice\u001B[0m\u001B[1;33m)\u001B[0m\u001B[1;33m\u001B[0m\u001B[1;33m\u001B[0m\u001B[0m\n\u001B[1;32m--> 169\u001B[1;33m                 \u001B[0mactions\u001B[0m\u001B[1;33m,\u001B[0m \u001B[0mvalues\u001B[0m\u001B[1;33m,\u001B[0m \u001B[0mlog_probs\u001B[0m \u001B[1;33m=\u001B[0m \u001B[0mself\u001B[0m\u001B[1;33m.\u001B[0m\u001B[0mpolicy\u001B[0m\u001B[1;33m(\u001B[0m\u001B[0mobs_tensor\u001B[0m\u001B[1;33m)\u001B[0m\u001B[1;33m\u001B[0m\u001B[1;33m\u001B[0m\u001B[0m\n\u001B[0m\u001B[0;32m    170\u001B[0m             \u001B[0mactions\u001B[0m \u001B[1;33m=\u001B[0m \u001B[0mactions\u001B[0m\u001B[1;33m.\u001B[0m\u001B[0mcpu\u001B[0m\u001B[1;33m(\u001B[0m\u001B[1;33m)\u001B[0m\u001B[1;33m.\u001B[0m\u001B[0mnumpy\u001B[0m\u001B[1;33m(\u001B[0m\u001B[1;33m)\u001B[0m\u001B[1;33m\u001B[0m\u001B[1;33m\u001B[0m\u001B[0m\n\u001B[0;32m    171\u001B[0m \u001B[1;33m\u001B[0m\u001B[0m\n",
      "\u001B[1;32m~\\Documents\\Projects\\Python\\Kore_Bot\\venv\\lib\\site-packages\\torch\\nn\\modules\\module.py\u001B[0m in \u001B[0;36m_call_impl\u001B[1;34m(self, *input, **kwargs)\u001B[0m\n\u001B[0;32m   1108\u001B[0m         if not (self._backward_hooks or self._forward_hooks or self._forward_pre_hooks or _global_backward_hooks\n\u001B[0;32m   1109\u001B[0m                 or _global_forward_hooks or _global_forward_pre_hooks):\n\u001B[1;32m-> 1110\u001B[1;33m             \u001B[1;32mreturn\u001B[0m \u001B[0mforward_call\u001B[0m\u001B[1;33m(\u001B[0m\u001B[1;33m*\u001B[0m\u001B[0minput\u001B[0m\u001B[1;33m,\u001B[0m \u001B[1;33m**\u001B[0m\u001B[0mkwargs\u001B[0m\u001B[1;33m)\u001B[0m\u001B[1;33m\u001B[0m\u001B[1;33m\u001B[0m\u001B[0m\n\u001B[0m\u001B[0;32m   1111\u001B[0m         \u001B[1;31m# Do not call functions when jit is used\u001B[0m\u001B[1;33m\u001B[0m\u001B[1;33m\u001B[0m\u001B[1;33m\u001B[0m\u001B[0m\n\u001B[0;32m   1112\u001B[0m         \u001B[0mfull_backward_hooks\u001B[0m\u001B[1;33m,\u001B[0m \u001B[0mnon_full_backward_hooks\u001B[0m \u001B[1;33m=\u001B[0m \u001B[1;33m[\u001B[0m\u001B[1;33m]\u001B[0m\u001B[1;33m,\u001B[0m \u001B[1;33m[\u001B[0m\u001B[1;33m]\u001B[0m\u001B[1;33m\u001B[0m\u001B[1;33m\u001B[0m\u001B[0m\n",
      "\u001B[1;32m~\\Documents\\Projects\\Python\\Kore_Bot\\venv\\lib\\site-packages\\stable_baselines3\\common\\policies.py\u001B[0m in \u001B[0;36mforward\u001B[1;34m(self, obs, deterministic)\u001B[0m\n\u001B[0;32m    592\u001B[0m         \u001B[0mdistribution\u001B[0m \u001B[1;33m=\u001B[0m \u001B[0mself\u001B[0m\u001B[1;33m.\u001B[0m\u001B[0m_get_action_dist_from_latent\u001B[0m\u001B[1;33m(\u001B[0m\u001B[0mlatent_pi\u001B[0m\u001B[1;33m)\u001B[0m\u001B[1;33m\u001B[0m\u001B[1;33m\u001B[0m\u001B[0m\n\u001B[0;32m    593\u001B[0m         \u001B[0mactions\u001B[0m \u001B[1;33m=\u001B[0m \u001B[0mdistribution\u001B[0m\u001B[1;33m.\u001B[0m\u001B[0mget_actions\u001B[0m\u001B[1;33m(\u001B[0m\u001B[0mdeterministic\u001B[0m\u001B[1;33m=\u001B[0m\u001B[0mdeterministic\u001B[0m\u001B[1;33m)\u001B[0m\u001B[1;33m\u001B[0m\u001B[1;33m\u001B[0m\u001B[0m\n\u001B[1;32m--> 594\u001B[1;33m         \u001B[0mlog_prob\u001B[0m \u001B[1;33m=\u001B[0m \u001B[0mdistribution\u001B[0m\u001B[1;33m.\u001B[0m\u001B[0mlog_prob\u001B[0m\u001B[1;33m(\u001B[0m\u001B[0mactions\u001B[0m\u001B[1;33m)\u001B[0m\u001B[1;33m\u001B[0m\u001B[1;33m\u001B[0m\u001B[0m\n\u001B[0m\u001B[0;32m    595\u001B[0m         \u001B[1;32mreturn\u001B[0m \u001B[0mactions\u001B[0m\u001B[1;33m,\u001B[0m \u001B[0mvalues\u001B[0m\u001B[1;33m,\u001B[0m \u001B[0mlog_prob\u001B[0m\u001B[1;33m\u001B[0m\u001B[1;33m\u001B[0m\u001B[0m\n\u001B[0;32m    596\u001B[0m \u001B[1;33m\u001B[0m\u001B[0m\n",
      "\u001B[1;32m~\\Documents\\Projects\\Python\\Kore_Bot\\venv\\lib\\site-packages\\stable_baselines3\\common\\distributions.py\u001B[0m in \u001B[0;36mlog_prob\u001B[1;34m(self, actions)\u001B[0m\n\u001B[0;32m    330\u001B[0m         \u001B[1;31m# Extract each discrete action and compute log prob for their respective distributions\u001B[0m\u001B[1;33m\u001B[0m\u001B[1;33m\u001B[0m\u001B[1;33m\u001B[0m\u001B[0m\n\u001B[0;32m    331\u001B[0m         return th.stack(\n\u001B[1;32m--> 332\u001B[1;33m             \u001B[1;33m[\u001B[0m\u001B[0mdist\u001B[0m\u001B[1;33m.\u001B[0m\u001B[0mlog_prob\u001B[0m\u001B[1;33m(\u001B[0m\u001B[0maction\u001B[0m\u001B[1;33m)\u001B[0m \u001B[1;32mfor\u001B[0m \u001B[0mdist\u001B[0m\u001B[1;33m,\u001B[0m \u001B[0maction\u001B[0m \u001B[1;32min\u001B[0m \u001B[0mzip\u001B[0m\u001B[1;33m(\u001B[0m\u001B[0mself\u001B[0m\u001B[1;33m.\u001B[0m\u001B[0mdistribution\u001B[0m\u001B[1;33m,\u001B[0m \u001B[0mth\u001B[0m\u001B[1;33m.\u001B[0m\u001B[0munbind\u001B[0m\u001B[1;33m(\u001B[0m\u001B[0mactions\u001B[0m\u001B[1;33m,\u001B[0m \u001B[0mdim\u001B[0m\u001B[1;33m=\u001B[0m\u001B[1;36m1\u001B[0m\u001B[1;33m)\u001B[0m\u001B[1;33m)\u001B[0m\u001B[1;33m]\u001B[0m\u001B[1;33m,\u001B[0m \u001B[0mdim\u001B[0m\u001B[1;33m=\u001B[0m\u001B[1;36m1\u001B[0m\u001B[1;33m\u001B[0m\u001B[1;33m\u001B[0m\u001B[0m\n\u001B[0m\u001B[0;32m    333\u001B[0m         ).sum(dim=1)\n\u001B[0;32m    334\u001B[0m \u001B[1;33m\u001B[0m\u001B[0m\n",
      "\u001B[1;32m~\\Documents\\Projects\\Python\\Kore_Bot\\venv\\lib\\site-packages\\stable_baselines3\\common\\distributions.py\u001B[0m in \u001B[0;36m<listcomp>\u001B[1;34m(.0)\u001B[0m\n\u001B[0;32m    330\u001B[0m         \u001B[1;31m# Extract each discrete action and compute log prob for their respective distributions\u001B[0m\u001B[1;33m\u001B[0m\u001B[1;33m\u001B[0m\u001B[1;33m\u001B[0m\u001B[0m\n\u001B[0;32m    331\u001B[0m         return th.stack(\n\u001B[1;32m--> 332\u001B[1;33m             \u001B[1;33m[\u001B[0m\u001B[0mdist\u001B[0m\u001B[1;33m.\u001B[0m\u001B[0mlog_prob\u001B[0m\u001B[1;33m(\u001B[0m\u001B[0maction\u001B[0m\u001B[1;33m)\u001B[0m \u001B[1;32mfor\u001B[0m \u001B[0mdist\u001B[0m\u001B[1;33m,\u001B[0m \u001B[0maction\u001B[0m \u001B[1;32min\u001B[0m \u001B[0mzip\u001B[0m\u001B[1;33m(\u001B[0m\u001B[0mself\u001B[0m\u001B[1;33m.\u001B[0m\u001B[0mdistribution\u001B[0m\u001B[1;33m,\u001B[0m \u001B[0mth\u001B[0m\u001B[1;33m.\u001B[0m\u001B[0munbind\u001B[0m\u001B[1;33m(\u001B[0m\u001B[0mactions\u001B[0m\u001B[1;33m,\u001B[0m \u001B[0mdim\u001B[0m\u001B[1;33m=\u001B[0m\u001B[1;36m1\u001B[0m\u001B[1;33m)\u001B[0m\u001B[1;33m)\u001B[0m\u001B[1;33m]\u001B[0m\u001B[1;33m,\u001B[0m \u001B[0mdim\u001B[0m\u001B[1;33m=\u001B[0m\u001B[1;36m1\u001B[0m\u001B[1;33m\u001B[0m\u001B[1;33m\u001B[0m\u001B[0m\n\u001B[0m\u001B[0;32m    333\u001B[0m         ).sum(dim=1)\n\u001B[0;32m    334\u001B[0m \u001B[1;33m\u001B[0m\u001B[0m\n",
      "\u001B[1;32m~\\Documents\\Projects\\Python\\Kore_Bot\\venv\\lib\\site-packages\\torch\\distributions\\categorical.py\u001B[0m in \u001B[0;36mlog_prob\u001B[1;34m(self, value)\u001B[0m\n\u001B[0;32m    115\u001B[0m     \u001B[1;32mdef\u001B[0m \u001B[0mlog_prob\u001B[0m\u001B[1;33m(\u001B[0m\u001B[0mself\u001B[0m\u001B[1;33m,\u001B[0m \u001B[0mvalue\u001B[0m\u001B[1;33m)\u001B[0m\u001B[1;33m:\u001B[0m\u001B[1;33m\u001B[0m\u001B[1;33m\u001B[0m\u001B[0m\n\u001B[0;32m    116\u001B[0m         \u001B[1;32mif\u001B[0m \u001B[0mself\u001B[0m\u001B[1;33m.\u001B[0m\u001B[0m_validate_args\u001B[0m\u001B[1;33m:\u001B[0m\u001B[1;33m\u001B[0m\u001B[1;33m\u001B[0m\u001B[0m\n\u001B[1;32m--> 117\u001B[1;33m             \u001B[0mself\u001B[0m\u001B[1;33m.\u001B[0m\u001B[0m_validate_sample\u001B[0m\u001B[1;33m(\u001B[0m\u001B[0mvalue\u001B[0m\u001B[1;33m)\u001B[0m\u001B[1;33m\u001B[0m\u001B[1;33m\u001B[0m\u001B[0m\n\u001B[0m\u001B[0;32m    118\u001B[0m         \u001B[0mvalue\u001B[0m \u001B[1;33m=\u001B[0m \u001B[0mvalue\u001B[0m\u001B[1;33m.\u001B[0m\u001B[0mlong\u001B[0m\u001B[1;33m(\u001B[0m\u001B[1;33m)\u001B[0m\u001B[1;33m.\u001B[0m\u001B[0munsqueeze\u001B[0m\u001B[1;33m(\u001B[0m\u001B[1;33m-\u001B[0m\u001B[1;36m1\u001B[0m\u001B[1;33m)\u001B[0m\u001B[1;33m\u001B[0m\u001B[1;33m\u001B[0m\u001B[0m\n\u001B[0;32m    119\u001B[0m         \u001B[0mvalue\u001B[0m\u001B[1;33m,\u001B[0m \u001B[0mlog_pmf\u001B[0m \u001B[1;33m=\u001B[0m \u001B[0mtorch\u001B[0m\u001B[1;33m.\u001B[0m\u001B[0mbroadcast_tensors\u001B[0m\u001B[1;33m(\u001B[0m\u001B[0mvalue\u001B[0m\u001B[1;33m,\u001B[0m \u001B[0mself\u001B[0m\u001B[1;33m.\u001B[0m\u001B[0mlogits\u001B[0m\u001B[1;33m)\u001B[0m\u001B[1;33m\u001B[0m\u001B[1;33m\u001B[0m\u001B[0m\n",
      "\u001B[1;32m~\\Documents\\Projects\\Python\\Kore_Bot\\venv\\lib\\site-packages\\torch\\distributions\\distribution.py\u001B[0m in \u001B[0;36m_validate_sample\u001B[1;34m(self, value)\u001B[0m\n\u001B[0;32m    282\u001B[0m             \u001B[1;32mreturn\u001B[0m\u001B[1;33m\u001B[0m\u001B[1;33m\u001B[0m\u001B[0m\n\u001B[0;32m    283\u001B[0m         \u001B[1;32massert\u001B[0m \u001B[0msupport\u001B[0m \u001B[1;32mis\u001B[0m \u001B[1;32mnot\u001B[0m \u001B[1;32mNone\u001B[0m\u001B[1;33m\u001B[0m\u001B[1;33m\u001B[0m\u001B[0m\n\u001B[1;32m--> 284\u001B[1;33m         \u001B[0mvalid\u001B[0m \u001B[1;33m=\u001B[0m \u001B[0msupport\u001B[0m\u001B[1;33m.\u001B[0m\u001B[0mcheck\u001B[0m\u001B[1;33m(\u001B[0m\u001B[0mvalue\u001B[0m\u001B[1;33m)\u001B[0m\u001B[1;33m\u001B[0m\u001B[1;33m\u001B[0m\u001B[0m\n\u001B[0m\u001B[0;32m    285\u001B[0m         \u001B[1;32mif\u001B[0m \u001B[1;32mnot\u001B[0m \u001B[0mvalid\u001B[0m\u001B[1;33m.\u001B[0m\u001B[0mall\u001B[0m\u001B[1;33m(\u001B[0m\u001B[1;33m)\u001B[0m\u001B[1;33m:\u001B[0m\u001B[1;33m\u001B[0m\u001B[1;33m\u001B[0m\u001B[0m\n\u001B[0;32m    286\u001B[0m             raise ValueError(\n",
      "\u001B[1;32m~\\Documents\\Projects\\Python\\Kore_Bot\\venv\\lib\\site-packages\\torch\\distributions\\constraints.py\u001B[0m in \u001B[0;36mcheck\u001B[1;34m(self, value)\u001B[0m\n\u001B[0;32m    255\u001B[0m \u001B[1;33m\u001B[0m\u001B[0m\n\u001B[0;32m    256\u001B[0m     \u001B[1;32mdef\u001B[0m \u001B[0mcheck\u001B[0m\u001B[1;33m(\u001B[0m\u001B[0mself\u001B[0m\u001B[1;33m,\u001B[0m \u001B[0mvalue\u001B[0m\u001B[1;33m)\u001B[0m\u001B[1;33m:\u001B[0m\u001B[1;33m\u001B[0m\u001B[1;33m\u001B[0m\u001B[0m\n\u001B[1;32m--> 257\u001B[1;33m         \u001B[1;32mreturn\u001B[0m \u001B[1;33m(\u001B[0m\u001B[0mvalue\u001B[0m \u001B[1;33m%\u001B[0m \u001B[1;36m1\u001B[0m \u001B[1;33m==\u001B[0m \u001B[1;36m0\u001B[0m\u001B[1;33m)\u001B[0m \u001B[1;33m&\u001B[0m \u001B[1;33m(\u001B[0m\u001B[0mself\u001B[0m\u001B[1;33m.\u001B[0m\u001B[0mlower_bound\u001B[0m \u001B[1;33m<=\u001B[0m \u001B[0mvalue\u001B[0m\u001B[1;33m)\u001B[0m \u001B[1;33m&\u001B[0m \u001B[1;33m(\u001B[0m\u001B[0mvalue\u001B[0m \u001B[1;33m<=\u001B[0m \u001B[0mself\u001B[0m\u001B[1;33m.\u001B[0m\u001B[0mupper_bound\u001B[0m\u001B[1;33m)\u001B[0m\u001B[1;33m\u001B[0m\u001B[1;33m\u001B[0m\u001B[0m\n\u001B[0m\u001B[0;32m    258\u001B[0m \u001B[1;33m\u001B[0m\u001B[0m\n\u001B[0;32m    259\u001B[0m     \u001B[1;32mdef\u001B[0m \u001B[0m__repr__\u001B[0m\u001B[1;33m(\u001B[0m\u001B[0mself\u001B[0m\u001B[1;33m)\u001B[0m\u001B[1;33m:\u001B[0m\u001B[1;33m\u001B[0m\u001B[1;33m\u001B[0m\u001B[0m\n",
      "\u001B[1;31mKeyboardInterrupt\u001B[0m: "
     ]
    }
   ],
   "source": [
    "TIMESTEPS = 1000000\n",
    "progressbar = ProgressBar()\n",
    "model = model.learn(total_timesteps=TIMESTEPS, callback=progressbar)\n",
    "\n",
    "model.save(MODEL_FILE)"
   ]
  },
  {
   "cell_type": "code",
   "execution_count": null,
   "id": "2f8d1215",
   "metadata": {
    "pycharm": {
     "name": "#%%\n"
    }
   },
   "outputs": [],
   "source": [
    "\n",
    "\n",
    "plt.style.use(['seaborn-whitegrid'])\n",
    "\n",
    "results_plotter.plot_results([LOG_DIR], TIMESTEPS,\n",
    "                             results_plotter.X_TIMESTEPS, 'Kore Timesteps')\n",
    "\n",
    "results_plotter.plot_results([LOG_DIR], TIMESTEPS,\n",
    "                             results_plotter.X_EPISODES, 'Kore Episodes')"
   ]
  },
  {
   "cell_type": "code",
   "execution_count": null,
   "id": "1f4ba85a",
   "metadata": {
    "pycharm": {
     "name": "#%%\n"
    }
   },
   "outputs": [],
   "source": [
    "log_files = [os.path.join(LOG_DIR, 'monitor.csv')]\n",
    "\n",
    "for i, log_file in enumerate(log_files):\n",
    "  if os.path.isfile(log_file):\n",
    "    df = pd.read_csv(log_file, skiprows=1)\n",
    "\n",
    "    fig = plt.figure(figsize=(8, 2))\n",
    "    plt.subplot(1, 2, 1, label=log_file)\n",
    "    df['r'].rolling(window=TIMESTEPS//1000).mean().plot(title=f'Rewards {i}')\n",
    "\n",
    "    plt.subplot(1, 2, 2, label=log_file)\n",
    "    df['l'].rolling(window=TIMESTEPS//1000).mean().plot(title=f'Lengths {i}')\n",
    "\n",
    "    plt.tight_layout()\n",
    "    plt.show()"
   ]
  },
  {
   "cell_type": "code",
   "execution_count": null,
   "id": "8edf6036",
   "metadata": {
    "pycharm": {
     "name": "#%%\n"
    }
   },
   "outputs": [],
   "source": [
    "run_test(model,opponent,deterministic=True)"
   ]
  },
  {
   "cell_type": "code",
   "execution_count": null,
   "id": "1b57551b",
   "metadata": {
    "pycharm": {
     "name": "#%%\n"
    }
   },
   "outputs": [],
   "source": [
    "run_test(model, opponent,deterministic=False)"
   ]
  },
  {
   "cell_type": "code",
   "execution_count": null,
   "id": "6864f393",
   "metadata": {
    "pycharm": {
     "name": "#%%\n"
    }
   },
   "outputs": [],
   "source": [
    "run_test(model, deterministic=TRUE)"
   ]
  },
  {
   "cell_type": "code",
   "execution_count": null,
   "id": "8c7f8bff",
   "metadata": {
    "pycharm": {
     "name": "#%%\n"
    }
   },
   "outputs": [],
   "source": [
    "run_test(model, deterministic=False)"
   ]
  }
 ],
 "metadata": {
  "kernelspec": {
   "display_name": "Python 3 (ipykernel)",
   "language": "python",
   "name": "python3"
  },
  "language_info": {
   "codemirror_mode": {
    "name": "ipython",
    "version": 3
   },
   "file_extension": ".py",
   "mimetype": "text/x-python",
   "name": "python",
   "nbconvert_exporter": "python",
   "pygments_lexer": "ipython3",
   "version": "3.7.8"
  },
  "papermill": {
   "default_parameters": {},
   "duration": 19.777951,
   "end_time": "2022-04-23T21:35:06.917792",
   "environment_variables": {},
   "exception": null,
   "input_path": "__notebook__.ipynb",
   "output_path": "__notebook__.ipynb",
   "parameters": {},
   "start_time": "2022-04-23T21:34:47.139841",
   "version": "2.3.4"
  }
 },
 "nbformat": 4,
 "nbformat_minor": 5
}